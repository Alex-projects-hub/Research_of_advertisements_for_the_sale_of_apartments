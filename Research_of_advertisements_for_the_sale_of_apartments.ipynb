{
 "cells": [
  {
   "cell_type": "markdown",
   "metadata": {},
   "source": [
    "# **Исследование объявлений о продаже квартир**"
   ]
  },
  {
   "cell_type": "markdown",
   "metadata": {},
   "source": [
    "## **Описание проекта**"
   ]
  },
  {
   "cell_type": "markdown",
   "metadata": {},
   "source": [
    "В нашем распоряжении данные сервиса Яндекс.Недвижимость — архив объявлений о продаже квартир в Санкт-Петербурге и соседних населённых пунктах за несколько лет. Нужно научиться определять рыночную стоимость объектов недвижимости. Наша задача — установить параметры. Это позволит построить автоматизированную систему: она отследит аномалии и мошенническую деятельность.\n",
    "\n",
    "По каждой квартире на продажу доступны два вида данных. Первые вписаны пользователем, вторые — получены автоматически на основе картографических данных. Например, расстояние до центра, аэропорта, ближайшего парка и водоёма."
   ]
  },
  {
   "cell_type": "markdown",
   "metadata": {},
   "source": [
    "## Описание данных"
   ]
  },
  {
   "cell_type": "markdown",
   "metadata": {},
   "source": [
    "- **total_images** — число фотографий квартиры в объявлении\n",
    "- **last_price** — цена на момент снятия с публикации\n",
    "- **total_area** — площадь квартиры в квадратных метрах (м²)\n",
    "- **first_day_exposition** — дата публикации\n",
    "- **rooms** — число комнат\n",
    "- **ceiling_height** — высота потолков (м)\n",
    "- **floors_total** — всего этажей в доме\n",
    "- **living_area** — жилая площадь в квадратных метрах (м²)\n",
    "- **floor** — этаж\n",
    "- **is_apartment** — апартаменты (булев тип)\n",
    "- **is_studio** — квартира-студия (булев тип)\n",
    "- **is_open_plan** — свободная планировка (булев тип)\n",
    "- **kitchen_area** — площадь кухни в квадратных метрах (м²)\n",
    "- **balcony** — число балконов\n",
    "- **locality_name** — название населённого пункта\n",
    "- **airports_nearest** — расстояние до ближайшего аэропорта в метрах (м)\n",
    "- **city_centers_nearest\"** — расстояние до центра города (м)\n",
    "- **parks_around_3km** — число парков в радиусе 3 км\n",
    "- **parks_nearest** — расстояние до ближайшего парка (м)\n",
    "- **ponds_around_3km** — число водоёмов в радиусе 3 км\n",
    "- **ponds_nearest** — расстояние до ближайшего водоёма (м)\n",
    "- **days_exposition** — сколько дней было размещено объявление (от публикации до снятия)\n",
    "\n",
    "*Пояснение*: апартаменты — это нежилые помещения, не относящиеся к жилому фонду, но имеющие необходимые условия для проживания."
   ]
  },
  {
   "cell_type": "markdown",
   "metadata": {},
   "source": [
    "## Вопросы на которые надо ответить и инструкции которые надо выполнить\n",
    "- `Изучите следующие параметры: площадь, цена, число комнат, высота потолков. Постройте гистограммы для каждого параметра.`\n",
    "- `Изучите время продажи квартиры. Постройте гистограмму. Посчитайте среднее и медиану. Опишите, сколько обычно занимает продажа. Когда можно считать, что продажи прошли очень быстро, а когда необычно долго?`\n",
    "- `Уберите редкие и выбивающиеся значения. Опишите, какие особенности обнаружили.`\n",
    "- `Какие факторы больше всего влияют на стоимость квартиры? Изучите, зависит ли цена от площади, числа комнат, удалённости от центра. Изучите зависимость цены от того, на каком этаже расположена квартира: первом, последнем или другом. Также изучите зависимость от даты размещения: дня недели, месяца и года.`\n",
    "- `Выберите 10 населённых пунктов с наибольшим числом объявлений. Посчитайте среднюю цену квадратного метра в этих населённых пунктах. Выделите среди них населённые пункты с самой высокой и низкой стоимостью жилья. Эти данные можно найти по имени в столбце 'locality_name'.`\n",
    "- `Изучите предложения квартир: для каждой квартиры есть информация о расстоянии до центра. Выделите квартиры в Санкт-Петербурге ('locality_name'). Ваша задача — выяснить, какая область входит в центр. Создайте столбец с расстоянием до центра в километрах: округлите до целых значений. После этого посчитайте среднюю цену для каждого километра. Постройте график: он должен показывать, как цена зависит от удалённости от центра. Определите границу, где график сильно меняется — это и будет центральная зона.`\n",
    "- `Выделите сегмент квартир в центре. Проанализируйте эту территорию и изучите следующие параметры: площадь, цена, число комнат, высота потолков. Также выделите факторы, которые влияют на стоимость квартиры (число комнат, этаж, удалённость от центра, дата размещения объявления). Сделайте выводы. Отличаются ли они от общих выводов по всему городу?`"
   ]
  },
  {
   "cell_type": "markdown",
   "metadata": {},
   "source": [
    "# Подключаем библиотеки и настраиваем отображение."
   ]
  },
  {
   "cell_type": "markdown",
   "metadata": {},
   "source": [
    "Бибилотеки"
   ]
  },
  {
   "cell_type": "code",
   "execution_count": 1,
   "metadata": {},
   "outputs": [],
   "source": [
    "import numpy as np\n",
    "import pandas as pd\n",
    "import matplotlib.pyplot as plt"
   ]
  },
  {
   "cell_type": "markdown",
   "metadata": {},
   "source": [
    "Отображение"
   ]
  },
  {
   "cell_type": "code",
   "execution_count": 2,
   "metadata": {},
   "outputs": [],
   "source": [
    "pd.set_option('display.max_columns', None)\n",
    "pd.options.display.float_format = lambda x: f'''{x:_.2f}'''"
   ]
  },
  {
   "cell_type": "markdown",
   "metadata": {},
   "source": [
    "# Осмотр данных и поиск замечаний"
   ]
  },
  {
   "cell_type": "code",
   "execution_count": 3,
   "metadata": {},
   "outputs": [],
   "source": [
    "df = pd.read_csv(\"datasets/real_estate_data.csv\", sep=\"\\t\")"
   ]
  },
  {
   "cell_type": "code",
   "execution_count": 4,
   "metadata": {},
   "outputs": [],
   "source": [
    "df = df.rename(columns={\"studio\": \"is_studio\", \n",
    "                        \"open_plan\": \"is_open_plan\", \n",
    "                        \"cityCenters_nearest\": \"city_centers_nearest\",\n",
    "                        \"parks_around3000\": \"parks_around_3km\",\n",
    "                        \"ponds_around3000\": \"ponds_around_3km\"})"
   ]
  },
  {
   "cell_type": "markdown",
   "metadata": {},
   "source": [
    "Привели некоторые столбцы к более корректному виду."
   ]
  },
  {
   "cell_type": "code",
   "execution_count": 5,
   "metadata": {},
   "outputs": [
    {
     "data": {
      "text/html": [
       "<div>\n",
       "<style scoped>\n",
       "    .dataframe tbody tr th:only-of-type {\n",
       "        vertical-align: middle;\n",
       "    }\n",
       "\n",
       "    .dataframe tbody tr th {\n",
       "        vertical-align: top;\n",
       "    }\n",
       "\n",
       "    .dataframe thead th {\n",
       "        text-align: right;\n",
       "    }\n",
       "</style>\n",
       "<table border=\"1\" class=\"dataframe\">\n",
       "  <thead>\n",
       "    <tr style=\"text-align: right;\">\n",
       "      <th></th>\n",
       "      <th>total_images</th>\n",
       "      <th>last_price</th>\n",
       "      <th>total_area</th>\n",
       "      <th>first_day_exposition</th>\n",
       "      <th>rooms</th>\n",
       "      <th>ceiling_height</th>\n",
       "      <th>floors_total</th>\n",
       "      <th>living_area</th>\n",
       "      <th>floor</th>\n",
       "      <th>is_apartment</th>\n",
       "      <th>is_studio</th>\n",
       "      <th>is_open_plan</th>\n",
       "      <th>kitchen_area</th>\n",
       "      <th>balcony</th>\n",
       "      <th>locality_name</th>\n",
       "      <th>airports_nearest</th>\n",
       "      <th>city_centers_nearest</th>\n",
       "      <th>parks_around_3km</th>\n",
       "      <th>parks_nearest</th>\n",
       "      <th>ponds_around_3km</th>\n",
       "      <th>ponds_nearest</th>\n",
       "      <th>days_exposition</th>\n",
       "    </tr>\n",
       "  </thead>\n",
       "  <tbody>\n",
       "    <tr>\n",
       "      <th>0</th>\n",
       "      <td>20</td>\n",
       "      <td>13_000_000.00</td>\n",
       "      <td>108.00</td>\n",
       "      <td>2019-03-07T00:00:00</td>\n",
       "      <td>3</td>\n",
       "      <td>2.70</td>\n",
       "      <td>16.00</td>\n",
       "      <td>51.00</td>\n",
       "      <td>8</td>\n",
       "      <td>NaN</td>\n",
       "      <td>False</td>\n",
       "      <td>False</td>\n",
       "      <td>25.00</td>\n",
       "      <td>NaN</td>\n",
       "      <td>Санкт-Петербург</td>\n",
       "      <td>18_863.00</td>\n",
       "      <td>16_028.00</td>\n",
       "      <td>1.00</td>\n",
       "      <td>482.00</td>\n",
       "      <td>2.00</td>\n",
       "      <td>755.00</td>\n",
       "      <td>NaN</td>\n",
       "    </tr>\n",
       "    <tr>\n",
       "      <th>1</th>\n",
       "      <td>7</td>\n",
       "      <td>3_350_000.00</td>\n",
       "      <td>40.40</td>\n",
       "      <td>2018-12-04T00:00:00</td>\n",
       "      <td>1</td>\n",
       "      <td>NaN</td>\n",
       "      <td>11.00</td>\n",
       "      <td>18.60</td>\n",
       "      <td>1</td>\n",
       "      <td>NaN</td>\n",
       "      <td>False</td>\n",
       "      <td>False</td>\n",
       "      <td>11.00</td>\n",
       "      <td>2.00</td>\n",
       "      <td>посёлок Шушары</td>\n",
       "      <td>12_817.00</td>\n",
       "      <td>18_603.00</td>\n",
       "      <td>0.00</td>\n",
       "      <td>NaN</td>\n",
       "      <td>0.00</td>\n",
       "      <td>NaN</td>\n",
       "      <td>81.00</td>\n",
       "    </tr>\n",
       "    <tr>\n",
       "      <th>2</th>\n",
       "      <td>10</td>\n",
       "      <td>5_196_000.00</td>\n",
       "      <td>56.00</td>\n",
       "      <td>2015-08-20T00:00:00</td>\n",
       "      <td>2</td>\n",
       "      <td>NaN</td>\n",
       "      <td>5.00</td>\n",
       "      <td>34.30</td>\n",
       "      <td>4</td>\n",
       "      <td>NaN</td>\n",
       "      <td>False</td>\n",
       "      <td>False</td>\n",
       "      <td>8.30</td>\n",
       "      <td>0.00</td>\n",
       "      <td>Санкт-Петербург</td>\n",
       "      <td>21_741.00</td>\n",
       "      <td>13_933.00</td>\n",
       "      <td>1.00</td>\n",
       "      <td>90.00</td>\n",
       "      <td>2.00</td>\n",
       "      <td>574.00</td>\n",
       "      <td>558.00</td>\n",
       "    </tr>\n",
       "    <tr>\n",
       "      <th>3</th>\n",
       "      <td>0</td>\n",
       "      <td>64_900_000.00</td>\n",
       "      <td>159.00</td>\n",
       "      <td>2015-07-24T00:00:00</td>\n",
       "      <td>3</td>\n",
       "      <td>NaN</td>\n",
       "      <td>14.00</td>\n",
       "      <td>NaN</td>\n",
       "      <td>9</td>\n",
       "      <td>NaN</td>\n",
       "      <td>False</td>\n",
       "      <td>False</td>\n",
       "      <td>NaN</td>\n",
       "      <td>0.00</td>\n",
       "      <td>Санкт-Петербург</td>\n",
       "      <td>28_098.00</td>\n",
       "      <td>6_800.00</td>\n",
       "      <td>2.00</td>\n",
       "      <td>84.00</td>\n",
       "      <td>3.00</td>\n",
       "      <td>234.00</td>\n",
       "      <td>424.00</td>\n",
       "    </tr>\n",
       "    <tr>\n",
       "      <th>4</th>\n",
       "      <td>2</td>\n",
       "      <td>10_000_000.00</td>\n",
       "      <td>100.00</td>\n",
       "      <td>2018-06-19T00:00:00</td>\n",
       "      <td>2</td>\n",
       "      <td>3.03</td>\n",
       "      <td>14.00</td>\n",
       "      <td>32.00</td>\n",
       "      <td>13</td>\n",
       "      <td>NaN</td>\n",
       "      <td>False</td>\n",
       "      <td>False</td>\n",
       "      <td>41.00</td>\n",
       "      <td>NaN</td>\n",
       "      <td>Санкт-Петербург</td>\n",
       "      <td>31_856.00</td>\n",
       "      <td>8_098.00</td>\n",
       "      <td>2.00</td>\n",
       "      <td>112.00</td>\n",
       "      <td>1.00</td>\n",
       "      <td>48.00</td>\n",
       "      <td>121.00</td>\n",
       "    </tr>\n",
       "    <tr>\n",
       "      <th>...</th>\n",
       "      <td>...</td>\n",
       "      <td>...</td>\n",
       "      <td>...</td>\n",
       "      <td>...</td>\n",
       "      <td>...</td>\n",
       "      <td>...</td>\n",
       "      <td>...</td>\n",
       "      <td>...</td>\n",
       "      <td>...</td>\n",
       "      <td>...</td>\n",
       "      <td>...</td>\n",
       "      <td>...</td>\n",
       "      <td>...</td>\n",
       "      <td>...</td>\n",
       "      <td>...</td>\n",
       "      <td>...</td>\n",
       "      <td>...</td>\n",
       "      <td>...</td>\n",
       "      <td>...</td>\n",
       "      <td>...</td>\n",
       "      <td>...</td>\n",
       "      <td>...</td>\n",
       "    </tr>\n",
       "    <tr>\n",
       "      <th>23694</th>\n",
       "      <td>9</td>\n",
       "      <td>9_700_000.00</td>\n",
       "      <td>133.81</td>\n",
       "      <td>2017-03-21T00:00:00</td>\n",
       "      <td>3</td>\n",
       "      <td>3.70</td>\n",
       "      <td>5.00</td>\n",
       "      <td>73.30</td>\n",
       "      <td>3</td>\n",
       "      <td>NaN</td>\n",
       "      <td>False</td>\n",
       "      <td>False</td>\n",
       "      <td>13.83</td>\n",
       "      <td>NaN</td>\n",
       "      <td>Санкт-Петербург</td>\n",
       "      <td>24_665.00</td>\n",
       "      <td>4_232.00</td>\n",
       "      <td>1.00</td>\n",
       "      <td>796.00</td>\n",
       "      <td>3.00</td>\n",
       "      <td>381.00</td>\n",
       "      <td>NaN</td>\n",
       "    </tr>\n",
       "    <tr>\n",
       "      <th>23695</th>\n",
       "      <td>14</td>\n",
       "      <td>3_100_000.00</td>\n",
       "      <td>59.00</td>\n",
       "      <td>2018-01-15T00:00:00</td>\n",
       "      <td>3</td>\n",
       "      <td>NaN</td>\n",
       "      <td>5.00</td>\n",
       "      <td>38.00</td>\n",
       "      <td>4</td>\n",
       "      <td>NaN</td>\n",
       "      <td>False</td>\n",
       "      <td>False</td>\n",
       "      <td>8.50</td>\n",
       "      <td>NaN</td>\n",
       "      <td>Тосно</td>\n",
       "      <td>NaN</td>\n",
       "      <td>NaN</td>\n",
       "      <td>NaN</td>\n",
       "      <td>NaN</td>\n",
       "      <td>NaN</td>\n",
       "      <td>NaN</td>\n",
       "      <td>45.00</td>\n",
       "    </tr>\n",
       "    <tr>\n",
       "      <th>23696</th>\n",
       "      <td>18</td>\n",
       "      <td>2_500_000.00</td>\n",
       "      <td>56.70</td>\n",
       "      <td>2018-02-11T00:00:00</td>\n",
       "      <td>2</td>\n",
       "      <td>NaN</td>\n",
       "      <td>3.00</td>\n",
       "      <td>29.70</td>\n",
       "      <td>1</td>\n",
       "      <td>NaN</td>\n",
       "      <td>False</td>\n",
       "      <td>False</td>\n",
       "      <td>NaN</td>\n",
       "      <td>NaN</td>\n",
       "      <td>село Рождествено</td>\n",
       "      <td>NaN</td>\n",
       "      <td>NaN</td>\n",
       "      <td>NaN</td>\n",
       "      <td>NaN</td>\n",
       "      <td>NaN</td>\n",
       "      <td>NaN</td>\n",
       "      <td>NaN</td>\n",
       "    </tr>\n",
       "    <tr>\n",
       "      <th>23697</th>\n",
       "      <td>13</td>\n",
       "      <td>11_475_000.00</td>\n",
       "      <td>76.75</td>\n",
       "      <td>2017-03-28T00:00:00</td>\n",
       "      <td>2</td>\n",
       "      <td>3.00</td>\n",
       "      <td>17.00</td>\n",
       "      <td>NaN</td>\n",
       "      <td>12</td>\n",
       "      <td>NaN</td>\n",
       "      <td>False</td>\n",
       "      <td>False</td>\n",
       "      <td>23.30</td>\n",
       "      <td>2.00</td>\n",
       "      <td>Санкт-Петербург</td>\n",
       "      <td>39_140.00</td>\n",
       "      <td>10_364.00</td>\n",
       "      <td>2.00</td>\n",
       "      <td>173.00</td>\n",
       "      <td>3.00</td>\n",
       "      <td>196.00</td>\n",
       "      <td>602.00</td>\n",
       "    </tr>\n",
       "    <tr>\n",
       "      <th>23698</th>\n",
       "      <td>4</td>\n",
       "      <td>1_350_000.00</td>\n",
       "      <td>32.30</td>\n",
       "      <td>2017-07-21T00:00:00</td>\n",
       "      <td>1</td>\n",
       "      <td>2.50</td>\n",
       "      <td>5.00</td>\n",
       "      <td>12.30</td>\n",
       "      <td>1</td>\n",
       "      <td>NaN</td>\n",
       "      <td>False</td>\n",
       "      <td>False</td>\n",
       "      <td>9.00</td>\n",
       "      <td>NaN</td>\n",
       "      <td>поселок Новый Учхоз</td>\n",
       "      <td>NaN</td>\n",
       "      <td>NaN</td>\n",
       "      <td>NaN</td>\n",
       "      <td>NaN</td>\n",
       "      <td>NaN</td>\n",
       "      <td>NaN</td>\n",
       "      <td>NaN</td>\n",
       "    </tr>\n",
       "  </tbody>\n",
       "</table>\n",
       "<p>23699 rows × 22 columns</p>\n",
       "</div>"
      ],
      "text/plain": [
       "       total_images    last_price  total_area first_day_exposition  rooms  \\\n",
       "0                20 13_000_000.00      108.00  2019-03-07T00:00:00      3   \n",
       "1                 7  3_350_000.00       40.40  2018-12-04T00:00:00      1   \n",
       "2                10  5_196_000.00       56.00  2015-08-20T00:00:00      2   \n",
       "3                 0 64_900_000.00      159.00  2015-07-24T00:00:00      3   \n",
       "4                 2 10_000_000.00      100.00  2018-06-19T00:00:00      2   \n",
       "...             ...           ...         ...                  ...    ...   \n",
       "23694             9  9_700_000.00      133.81  2017-03-21T00:00:00      3   \n",
       "23695            14  3_100_000.00       59.00  2018-01-15T00:00:00      3   \n",
       "23696            18  2_500_000.00       56.70  2018-02-11T00:00:00      2   \n",
       "23697            13 11_475_000.00       76.75  2017-03-28T00:00:00      2   \n",
       "23698             4  1_350_000.00       32.30  2017-07-21T00:00:00      1   \n",
       "\n",
       "       ceiling_height  floors_total  living_area  floor is_apartment  \\\n",
       "0                2.70         16.00        51.00      8          NaN   \n",
       "1                 NaN         11.00        18.60      1          NaN   \n",
       "2                 NaN          5.00        34.30      4          NaN   \n",
       "3                 NaN         14.00          NaN      9          NaN   \n",
       "4                3.03         14.00        32.00     13          NaN   \n",
       "...               ...           ...          ...    ...          ...   \n",
       "23694            3.70          5.00        73.30      3          NaN   \n",
       "23695             NaN          5.00        38.00      4          NaN   \n",
       "23696             NaN          3.00        29.70      1          NaN   \n",
       "23697            3.00         17.00          NaN     12          NaN   \n",
       "23698            2.50          5.00        12.30      1          NaN   \n",
       "\n",
       "       is_studio  is_open_plan  kitchen_area  balcony        locality_name  \\\n",
       "0          False         False         25.00      NaN      Санкт-Петербург   \n",
       "1          False         False         11.00     2.00       посёлок Шушары   \n",
       "2          False         False          8.30     0.00      Санкт-Петербург   \n",
       "3          False         False           NaN     0.00      Санкт-Петербург   \n",
       "4          False         False         41.00      NaN      Санкт-Петербург   \n",
       "...          ...           ...           ...      ...                  ...   \n",
       "23694      False         False         13.83      NaN      Санкт-Петербург   \n",
       "23695      False         False          8.50      NaN                Тосно   \n",
       "23696      False         False           NaN      NaN     село Рождествено   \n",
       "23697      False         False         23.30     2.00      Санкт-Петербург   \n",
       "23698      False         False          9.00      NaN  поселок Новый Учхоз   \n",
       "\n",
       "       airports_nearest  city_centers_nearest  parks_around_3km  \\\n",
       "0             18_863.00             16_028.00              1.00   \n",
       "1             12_817.00             18_603.00              0.00   \n",
       "2             21_741.00             13_933.00              1.00   \n",
       "3             28_098.00              6_800.00              2.00   \n",
       "4             31_856.00              8_098.00              2.00   \n",
       "...                 ...                   ...               ...   \n",
       "23694         24_665.00              4_232.00              1.00   \n",
       "23695               NaN                   NaN               NaN   \n",
       "23696               NaN                   NaN               NaN   \n",
       "23697         39_140.00             10_364.00              2.00   \n",
       "23698               NaN                   NaN               NaN   \n",
       "\n",
       "       parks_nearest  ponds_around_3km  ponds_nearest  days_exposition  \n",
       "0             482.00              2.00         755.00              NaN  \n",
       "1                NaN              0.00            NaN            81.00  \n",
       "2              90.00              2.00         574.00           558.00  \n",
       "3              84.00              3.00         234.00           424.00  \n",
       "4             112.00              1.00          48.00           121.00  \n",
       "...              ...               ...            ...              ...  \n",
       "23694         796.00              3.00         381.00              NaN  \n",
       "23695            NaN               NaN            NaN            45.00  \n",
       "23696            NaN               NaN            NaN              NaN  \n",
       "23697         173.00              3.00         196.00           602.00  \n",
       "23698            NaN               NaN            NaN              NaN  \n",
       "\n",
       "[23699 rows x 22 columns]"
      ]
     },
     "execution_count": 5,
     "metadata": {},
     "output_type": "execute_result"
    }
   ],
   "source": [
    "df"
   ]
  },
  {
   "cell_type": "markdown",
   "metadata": {},
   "source": [
    "**locality_name**: нужно привести к нижнему регистру и избавиться от буквы \"ё\" в словах, для стандартизации столбца."
   ]
  },
  {
   "cell_type": "code",
   "execution_count": 6,
   "metadata": {},
   "outputs": [
    {
     "name": "stdout",
     "output_type": "stream",
     "text": [
      "<class 'pandas.core.frame.DataFrame'>\n",
      "RangeIndex: 23699 entries, 0 to 23698\n",
      "Data columns (total 22 columns):\n",
      " #   Column                Non-Null Count  Dtype  \n",
      "---  ------                --------------  -----  \n",
      " 0   total_images          23699 non-null  int64  \n",
      " 1   last_price            23699 non-null  float64\n",
      " 2   total_area            23699 non-null  float64\n",
      " 3   first_day_exposition  23699 non-null  object \n",
      " 4   rooms                 23699 non-null  int64  \n",
      " 5   ceiling_height        14504 non-null  float64\n",
      " 6   floors_total          23613 non-null  float64\n",
      " 7   living_area           21796 non-null  float64\n",
      " 8   floor                 23699 non-null  int64  \n",
      " 9   is_apartment          2775 non-null   object \n",
      " 10  is_studio             23699 non-null  bool   \n",
      " 11  is_open_plan          23699 non-null  bool   \n",
      " 12  kitchen_area          21421 non-null  float64\n",
      " 13  balcony               12180 non-null  float64\n",
      " 14  locality_name         23650 non-null  object \n",
      " 15  airports_nearest      18157 non-null  float64\n",
      " 16  city_centers_nearest  18180 non-null  float64\n",
      " 17  parks_around_3km      18181 non-null  float64\n",
      " 18  parks_nearest         8079 non-null   float64\n",
      " 19  ponds_around_3km      18181 non-null  float64\n",
      " 20  ponds_nearest         9110 non-null   float64\n",
      " 21  days_exposition       20518 non-null  float64\n",
      "dtypes: bool(2), float64(14), int64(3), object(3)\n",
      "memory usage: 3.7+ MB\n"
     ]
    }
   ],
   "source": [
    "df.info()"
   ]
  },
  {
   "cell_type": "markdown",
   "metadata": {},
   "source": [
    "**first_day_exposition**: это дата первой публикации, тут нужен тип данных datetime64а не object. **floors_total**: общее число этажей не может быть дробным числом, заменить на int64. **is_apartment**: должен быть булевый тип, а стоит object, проверить. **balcony**: число балконов не может быть дробным, меняем на int64. **parks_around_3km** и **ponds_around_3km**: количество не может быть дробным числом, поменять на int64. **days_exposition**: количество дней не может быть дробным, поменять на int64. "
   ]
  },
  {
   "cell_type": "code",
   "execution_count": 7,
   "metadata": {},
   "outputs": [
    {
     "data": {
      "text/html": [
       "<div>\n",
       "<style scoped>\n",
       "    .dataframe tbody tr th:only-of-type {\n",
       "        vertical-align: middle;\n",
       "    }\n",
       "\n",
       "    .dataframe tbody tr th {\n",
       "        vertical-align: top;\n",
       "    }\n",
       "\n",
       "    .dataframe thead th {\n",
       "        text-align: right;\n",
       "    }\n",
       "</style>\n",
       "<table border=\"1\" class=\"dataframe\">\n",
       "  <thead>\n",
       "    <tr style=\"text-align: right;\">\n",
       "      <th></th>\n",
       "      <th>total_images</th>\n",
       "      <th>last_price</th>\n",
       "      <th>total_area</th>\n",
       "      <th>rooms</th>\n",
       "      <th>ceiling_height</th>\n",
       "      <th>floors_total</th>\n",
       "      <th>living_area</th>\n",
       "      <th>floor</th>\n",
       "      <th>kitchen_area</th>\n",
       "      <th>balcony</th>\n",
       "      <th>airports_nearest</th>\n",
       "      <th>city_centers_nearest</th>\n",
       "      <th>parks_around_3km</th>\n",
       "      <th>parks_nearest</th>\n",
       "      <th>ponds_around_3km</th>\n",
       "      <th>ponds_nearest</th>\n",
       "      <th>days_exposition</th>\n",
       "    </tr>\n",
       "  </thead>\n",
       "  <tbody>\n",
       "    <tr>\n",
       "      <th>count</th>\n",
       "      <td>23_699.00</td>\n",
       "      <td>23_699.00</td>\n",
       "      <td>23_699.00</td>\n",
       "      <td>23_699.00</td>\n",
       "      <td>14_504.00</td>\n",
       "      <td>23_613.00</td>\n",
       "      <td>21_796.00</td>\n",
       "      <td>23_699.00</td>\n",
       "      <td>21_421.00</td>\n",
       "      <td>12_180.00</td>\n",
       "      <td>18_157.00</td>\n",
       "      <td>18_180.00</td>\n",
       "      <td>18_181.00</td>\n",
       "      <td>8_079.00</td>\n",
       "      <td>18_181.00</td>\n",
       "      <td>9_110.00</td>\n",
       "      <td>20_518.00</td>\n",
       "    </tr>\n",
       "    <tr>\n",
       "      <th>mean</th>\n",
       "      <td>9.86</td>\n",
       "      <td>6_541_548.77</td>\n",
       "      <td>60.35</td>\n",
       "      <td>2.07</td>\n",
       "      <td>2.77</td>\n",
       "      <td>10.67</td>\n",
       "      <td>34.46</td>\n",
       "      <td>5.89</td>\n",
       "      <td>10.57</td>\n",
       "      <td>1.15</td>\n",
       "      <td>28_793.67</td>\n",
       "      <td>14_191.28</td>\n",
       "      <td>0.61</td>\n",
       "      <td>490.80</td>\n",
       "      <td>0.77</td>\n",
       "      <td>517.98</td>\n",
       "      <td>180.89</td>\n",
       "    </tr>\n",
       "    <tr>\n",
       "      <th>std</th>\n",
       "      <td>5.68</td>\n",
       "      <td>10_887_013.27</td>\n",
       "      <td>35.65</td>\n",
       "      <td>1.08</td>\n",
       "      <td>1.26</td>\n",
       "      <td>6.60</td>\n",
       "      <td>22.03</td>\n",
       "      <td>4.89</td>\n",
       "      <td>5.91</td>\n",
       "      <td>1.07</td>\n",
       "      <td>12_630.88</td>\n",
       "      <td>8_608.39</td>\n",
       "      <td>0.80</td>\n",
       "      <td>342.32</td>\n",
       "      <td>0.94</td>\n",
       "      <td>277.72</td>\n",
       "      <td>219.73</td>\n",
       "    </tr>\n",
       "    <tr>\n",
       "      <th>min</th>\n",
       "      <td>0.00</td>\n",
       "      <td>12_190.00</td>\n",
       "      <td>12.00</td>\n",
       "      <td>0.00</td>\n",
       "      <td>1.00</td>\n",
       "      <td>1.00</td>\n",
       "      <td>2.00</td>\n",
       "      <td>1.00</td>\n",
       "      <td>1.30</td>\n",
       "      <td>0.00</td>\n",
       "      <td>0.00</td>\n",
       "      <td>181.00</td>\n",
       "      <td>0.00</td>\n",
       "      <td>1.00</td>\n",
       "      <td>0.00</td>\n",
       "      <td>13.00</td>\n",
       "      <td>1.00</td>\n",
       "    </tr>\n",
       "    <tr>\n",
       "      <th>25%</th>\n",
       "      <td>6.00</td>\n",
       "      <td>3_400_000.00</td>\n",
       "      <td>40.00</td>\n",
       "      <td>1.00</td>\n",
       "      <td>2.52</td>\n",
       "      <td>5.00</td>\n",
       "      <td>18.60</td>\n",
       "      <td>2.00</td>\n",
       "      <td>7.00</td>\n",
       "      <td>0.00</td>\n",
       "      <td>18_585.00</td>\n",
       "      <td>9_238.00</td>\n",
       "      <td>0.00</td>\n",
       "      <td>288.00</td>\n",
       "      <td>0.00</td>\n",
       "      <td>294.00</td>\n",
       "      <td>45.00</td>\n",
       "    </tr>\n",
       "    <tr>\n",
       "      <th>50%</th>\n",
       "      <td>9.00</td>\n",
       "      <td>4_650_000.00</td>\n",
       "      <td>52.00</td>\n",
       "      <td>2.00</td>\n",
       "      <td>2.65</td>\n",
       "      <td>9.00</td>\n",
       "      <td>30.00</td>\n",
       "      <td>4.00</td>\n",
       "      <td>9.10</td>\n",
       "      <td>1.00</td>\n",
       "      <td>26_726.00</td>\n",
       "      <td>13_098.50</td>\n",
       "      <td>0.00</td>\n",
       "      <td>455.00</td>\n",
       "      <td>1.00</td>\n",
       "      <td>502.00</td>\n",
       "      <td>95.00</td>\n",
       "    </tr>\n",
       "    <tr>\n",
       "      <th>75%</th>\n",
       "      <td>14.00</td>\n",
       "      <td>6_800_000.00</td>\n",
       "      <td>69.90</td>\n",
       "      <td>3.00</td>\n",
       "      <td>2.80</td>\n",
       "      <td>16.00</td>\n",
       "      <td>42.30</td>\n",
       "      <td>8.00</td>\n",
       "      <td>12.00</td>\n",
       "      <td>2.00</td>\n",
       "      <td>37_273.00</td>\n",
       "      <td>16_293.00</td>\n",
       "      <td>1.00</td>\n",
       "      <td>612.00</td>\n",
       "      <td>1.00</td>\n",
       "      <td>729.00</td>\n",
       "      <td>232.00</td>\n",
       "    </tr>\n",
       "    <tr>\n",
       "      <th>max</th>\n",
       "      <td>50.00</td>\n",
       "      <td>763_000_000.00</td>\n",
       "      <td>900.00</td>\n",
       "      <td>19.00</td>\n",
       "      <td>100.00</td>\n",
       "      <td>60.00</td>\n",
       "      <td>409.70</td>\n",
       "      <td>33.00</td>\n",
       "      <td>112.00</td>\n",
       "      <td>5.00</td>\n",
       "      <td>84_869.00</td>\n",
       "      <td>65_968.00</td>\n",
       "      <td>3.00</td>\n",
       "      <td>3_190.00</td>\n",
       "      <td>3.00</td>\n",
       "      <td>1_344.00</td>\n",
       "      <td>1_580.00</td>\n",
       "    </tr>\n",
       "  </tbody>\n",
       "</table>\n",
       "</div>"
      ],
      "text/plain": [
       "       total_images     last_price  total_area     rooms  ceiling_height  \\\n",
       "count     23_699.00      23_699.00   23_699.00 23_699.00       14_504.00   \n",
       "mean           9.86   6_541_548.77       60.35      2.07            2.77   \n",
       "std            5.68  10_887_013.27       35.65      1.08            1.26   \n",
       "min            0.00      12_190.00       12.00      0.00            1.00   \n",
       "25%            6.00   3_400_000.00       40.00      1.00            2.52   \n",
       "50%            9.00   4_650_000.00       52.00      2.00            2.65   \n",
       "75%           14.00   6_800_000.00       69.90      3.00            2.80   \n",
       "max           50.00 763_000_000.00      900.00     19.00          100.00   \n",
       "\n",
       "       floors_total  living_area     floor  kitchen_area   balcony  \\\n",
       "count     23_613.00    21_796.00 23_699.00     21_421.00 12_180.00   \n",
       "mean          10.67        34.46      5.89         10.57      1.15   \n",
       "std            6.60        22.03      4.89          5.91      1.07   \n",
       "min            1.00         2.00      1.00          1.30      0.00   \n",
       "25%            5.00        18.60      2.00          7.00      0.00   \n",
       "50%            9.00        30.00      4.00          9.10      1.00   \n",
       "75%           16.00        42.30      8.00         12.00      2.00   \n",
       "max           60.00       409.70     33.00        112.00      5.00   \n",
       "\n",
       "       airports_nearest  city_centers_nearest  parks_around_3km  \\\n",
       "count         18_157.00             18_180.00         18_181.00   \n",
       "mean          28_793.67             14_191.28              0.61   \n",
       "std           12_630.88              8_608.39              0.80   \n",
       "min                0.00                181.00              0.00   \n",
       "25%           18_585.00              9_238.00              0.00   \n",
       "50%           26_726.00             13_098.50              0.00   \n",
       "75%           37_273.00             16_293.00              1.00   \n",
       "max           84_869.00             65_968.00              3.00   \n",
       "\n",
       "       parks_nearest  ponds_around_3km  ponds_nearest  days_exposition  \n",
       "count       8_079.00         18_181.00       9_110.00        20_518.00  \n",
       "mean          490.80              0.77         517.98           180.89  \n",
       "std           342.32              0.94         277.72           219.73  \n",
       "min             1.00              0.00          13.00             1.00  \n",
       "25%           288.00              0.00         294.00            45.00  \n",
       "50%           455.00              1.00         502.00            95.00  \n",
       "75%           612.00              1.00         729.00           232.00  \n",
       "max         3_190.00              3.00       1_344.00         1_580.00  "
      ]
     },
     "execution_count": 7,
     "metadata": {},
     "output_type": "execute_result"
    }
   ],
   "source": [
    "df.describe()"
   ]
  },
  {
   "cell_type": "markdown",
   "metadata": {},
   "source": [
    "**last_price**: Минимальное значение 12 тысяч, это очень мало, а максимальное 763 миллиона, очень много, это выбросы."
   ]
  },
  {
   "cell_type": "code",
   "execution_count": 60,
   "metadata": {},
   "outputs": [
    {
     "data": {
      "image/png": "[encoded data removed]",
      "text/plain": [
       "<Figure size 1400x500 with 2 Axes>"
      ]
     },
     "metadata": {},
     "output_type": "display_data"
    }
   ],
   "source": [
    "fig, axs = plt.subplots(1, 2, figsize=(14, 5))\n",
    "\n",
    "df[\"last_price\"].plot(kind=\"hist\", bins=100, grid=True, ax=axs[0], title=\"Цена без диапазона\");\n",
    "df[\"last_price\"].plot(kind=\"hist\", bins=100, grid=True, ax=axs[1], title=\"Цена в диапазоне до 100 миллионов\").set_xlim(-10000000, 100000000);\n",
    "\n",
    "plt.show()"
   ]
  },
  {
   "cell_type": "markdown",
   "metadata": {},
   "source": [
    "Видим что основная масса цен находиться до 40 миллионов."
   ]
  },
  {
   "cell_type": "code",
   "execution_count": 8,
   "metadata": {},
   "outputs": [
    {
     "name": "stdout",
     "output_type": "stream",
     "text": [
      "Минимальная цена за квартиру - 1_300_000\n",
      "Максимальная цена за квартиру - 36_000_000\n"
     ]
    }
   ],
   "source": [
    "print(f'''Минимальная цена за квартиру - {df[\"last_price\"].quantile(0.02):_.0f}''')\n",
    "print(f'''Максимальная цена за квартиру - {df[\"last_price\"].quantile(0.99):_.0f}''')"
   ]
  },
  {
   "cell_type": "code",
   "execution_count": 9,
   "metadata": {},
   "outputs": [
    {
     "data": {
      "text/plain": [
       "0.9694501877716359"
      ]
     },
     "execution_count": 9,
     "metadata": {},
     "output_type": "execute_result"
    }
   ],
   "source": [
    "df[(df[\"last_price\"] > df[\"last_price\"].quantile(0.02)) & (df[\"last_price\"] < df[\"last_price\"].quantile(0.99))].shape[0] / df.shape[0]"
   ]
  },
  {
   "cell_type": "markdown",
   "metadata": {},
   "source": [
    "Возмём наиболее соответствующие здравому смыслу цены на квартиры. Минимальная в 1.3 миллиона, а максимальная в 36 миллионов. Думаю для Санкт-Петербурга и его окрестностей это адекватные цены, тем более это 97 % всех квартир. Всё остальное будем считать выбросами и удалим, заполнять средним или медианой нельзя, иначе это исказит реальные выводы, ведь эти квартиры в реальности могут иметь абсолютно разные цены, но достать эту информацию не возможно. Выбросы появились вероятно из-за ошибок в заполнении, может были проставлены лишние цифры или сбой при выгрузке."
   ]
  },
  {
   "cell_type": "code",
   "execution_count": 10,
   "metadata": {},
   "outputs": [
    {
     "data": {
      "text/plain": [
       "rooms\n",
       "0      197\n",
       "1     8047\n",
       "2     7940\n",
       "3     5814\n",
       "4     1180\n",
       "5      326\n",
       "6      105\n",
       "7       59\n",
       "8       12\n",
       "9        8\n",
       "10       3\n",
       "11       2\n",
       "12       1\n",
       "14       2\n",
       "15       1\n",
       "16       1\n",
       "19       1\n",
       "Name: count, dtype: int64"
      ]
     },
     "execution_count": 10,
     "metadata": {},
     "output_type": "execute_result"
    }
   ],
   "source": [
    "df[\"rooms\"].value_counts().sort_index()"
   ]
  },
  {
   "cell_type": "markdown",
   "metadata": {},
   "source": [
    "в **rooms** есть 197 нулевых значений, скорее всего это квартиры-студии. Оставляем как есть."
   ]
  },
  {
   "cell_type": "code",
   "execution_count": 14,
   "metadata": {},
   "outputs": [
    {
     "data": {
      "image/png": "[encoded data removed]",
      "text/plain": [
       "<Figure size 640x480 with 1 Axes>"
      ]
     },
     "metadata": {},
     "output_type": "display_data"
    }
   ],
   "source": [
    "df[\"ceiling_height\"].plot(kind=\"box\", grid=True).set_ylim(0, 6);"
   ]
  },
  {
   "cell_type": "code",
   "execution_count": 12,
   "metadata": {},
   "outputs": [
    {
     "data": {
      "text/plain": [
       "ceiling_height\n",
       "100.00     1\n",
       "32.00      2\n",
       "27.50      1\n",
       "27.00      8\n",
       "26.00      1\n",
       "          ..\n",
       "2.20       1\n",
       "2.00      11\n",
       "1.75       1\n",
       "1.20       1\n",
       "1.00       1\n",
       "Name: count, Length: 183, dtype: int64"
      ]
     },
     "execution_count": 12,
     "metadata": {},
     "output_type": "execute_result"
    }
   ],
   "source": [
    "df[\"ceiling_height\"].value_counts().sort_index(ascending=False)"
   ]
  },
  {
   "cell_type": "code",
   "execution_count": 13,
   "metadata": {},
   "outputs": [
    {
     "data": {
      "text/plain": [
       "89"
      ]
     },
     "execution_count": 13,
     "metadata": {},
     "output_type": "execute_result"
    }
   ],
   "source": [
    "df.query(\"ceiling_height < 2.1 | ceiling_height > 4\")[\"ceiling_height\"].count()"
   ]
  },
  {
   "cell_type": "markdown",
   "metadata": {},
   "source": [
    "В **ceiling_height** есть всего 89 значений которые или меньше 2.1 метра или выше 4. Вероятно тут ошибка заполнения или выгрузки. В среднем потолки идут от 2.2 метра до 3.2, в редких случаях чуть ниже или чуть выше этого показателя. Просто заменим медианой."
   ]
  },
  {
   "cell_type": "code",
   "execution_count": 68,
   "metadata": {},
   "outputs": [
    {
     "data": {
      "image/png": "[encoded data removed]",
      "text/plain": [
       "<Figure size 1400x500 with 2 Axes>"
      ]
     },
     "metadata": {},
     "output_type": "display_data"
    }
   ],
   "source": [
    "fig, axs = plt.subplots(1, 2, figsize=(14, 5))\n",
    "\n",
    "df[\"living_area\"].plot(kind=\"hist\", grid=True, ax=axs[0], title=\"Жил. площадь\");\n",
    "df[\"living_area\"].plot(kind=\"hist\", range=(0, 100), grid=True, ax=axs[1], title=\"Жил. площадь (до 100 квад. метров)\");\n",
    "\n",
    "plt.show()"
   ]
  },
  {
   "cell_type": "code",
   "execution_count": 73,
   "metadata": {},
   "outputs": [
    {
     "data": {
      "text/plain": [
       "25"
      ]
     },
     "execution_count": 73,
     "metadata": {},
     "output_type": "execute_result"
    }
   ],
   "source": [
    "df.query(\"living_area < 10\")[\"living_area\"].count()"
   ]
  },
  {
   "cell_type": "markdown",
   "metadata": {},
   "source": [
    "В жилой площади есть нереальные значения меньше 10 квадратных метров (25 значений), будем считать их выбросами, заполнять не будем потому что можно исказить результаты исследования, удалим их. Основные значения жилой площади от 10 до примерно 75 квадратных метров, есть большие значения, скорее всего это более дорогие или элитные дома."
   ]
  },
  {
   "cell_type": "code",
   "execution_count": 99,
   "metadata": {},
   "outputs": [
    {
     "data": {
      "image/png": "[encoded data removed]",
      "text/plain": [
       "<Figure size 640x480 with 1 Axes>"
      ]
     },
     "metadata": {},
     "output_type": "display_data"
    }
   ],
   "source": [
    "df[\"days_exposition\"].plot(kind=\"hist\", grid=True, bins=100);"
   ]
  },
  {
   "cell_type": "markdown",
   "metadata": {},
   "source": [
    "В основном обявления висели в приложении от 1 до 600 дней (чуть больше полтора года). Есть и выбросы, где обявления висели больше 1000 дней. Возможно клиенты забывали закрывать обьявления после того как продали квартиру. Это не самый важный показатель, удалять выбросы нельзя, вместе с ними удалятся важные параметры, будем игнорировать его."
   ]
  },
  {
   "cell_type": "code",
   "execution_count": 100,
   "metadata": {},
   "outputs": [
    {
     "data": {
      "image/png": "[encoded data removed]",
      "text/plain": [
       "<Figure size 640x480 with 1 Axes>"
      ]
     },
     "metadata": {},
     "output_type": "display_data"
    }
   ],
   "source": [
    "df[\"days_exposition\"].plot(kind=\"hist\", grid=True, bins=200).set_xlim(0, 200);"
   ]
  },
  {
   "cell_type": "markdown",
   "metadata": {},
   "source": [
    "Уменьшили диапазон до 200 дней. Два явных пика на 45 и 60 днях. Возможно в приложении стоят настройки в эти дни автоматически закрывать обьявления."
   ]
  },
  {
   "cell_type": "markdown",
   "metadata": {},
   "source": [
    "## Что нужно исправить:"
   ]
  },
  {
   "cell_type": "markdown",
   "metadata": {},
   "source": [
    "| <span style=\"color:orange\">1. Странные значения</span> | <span style=\"color:orange\">2. Пропуски</span> | <span style=\"color:orange\">3. Замена типа данных</span> | <span style=\"color:orange\">4. Удаление дубликатов</span> | <span style=\"color:orange\">5. Категоризация</span> |\n",
    "| - | - | - | - | - |\n",
    "| Исправить названия столбцов || **first_day_exposition**: заменить тип данных на datetime64. |\n",
    "| **locality_name**: привести к нижнему регистру и избавиться от буквы \"ё\" в словах || **floors_total**: заменить на int64 |\n",
    "| **last_price**: Проверить на выбросы и скорректировать значения || **is_apartment**: проверить, возможно есть NA |\n",
    "| **last_price**: удалить выбросы, сделав срез по данным между 2 и 99 квантилем || **balcony**: поменять на Int64 |\n",
    "| **ceiling_height**: заменить выбросы медианой || **parks_around_3km** и **ponds_around_3km**: поменять на Int64 |\n",
    "| **living_area**: убрать выбросы меньше 10 || **days_exposition**: поменять на Int64 |"
   ]
  }
 ],
 "metadata": {
  "kernelspec": {
   "display_name": "Python 3",
   "language": "python",
   "name": "python3"
  },
  "language_info": {
   "codemirror_mode": {
    "name": "ipython",
    "version": 3
   },
   "file_extension": ".py",
   "mimetype": "text/x-python",
   "name": "python",
   "nbconvert_exporter": "python",
   "pygments_lexer": "ipython3",
   "version": "3.12.0"
  }
 },
 "nbformat": 4,
 "nbformat_minor": 2
}
