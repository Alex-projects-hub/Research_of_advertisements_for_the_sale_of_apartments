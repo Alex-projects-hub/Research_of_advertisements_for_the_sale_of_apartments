{
 "cells": [
  {
   "cell_type": "markdown",
   "metadata": {},
   "source": [
    "# **Исследование объявлений о продаже квартир**"
   ]
  },
  {
   "cell_type": "markdown",
   "metadata": {},
   "source": [
    "## **Описание проекта**"
   ]
  },
  {
   "cell_type": "markdown",
   "metadata": {},
   "source": [
    "В нашем распоряжении данные сервиса Яндекс.Недвижимость — архив объявлений о продаже квартир в Санкт-Петербурге и соседних населённых пунктах за несколько лет. Нужно научиться определять рыночную стоимость объектов недвижимости. Наша задача — установить параметры. Это позволит построить автоматизированную систему: она отследит аномалии и мошенническую деятельность.\n",
    "\n",
    "По каждой квартире на продажу доступны два вида данных. Первые вписаны пользователем, вторые — получены автоматически на основе картографических данных. Например, расстояние до центра, аэропорта, ближайшего парка и водоёма."
   ]
  },
  {
   "cell_type": "markdown",
   "metadata": {},
   "source": [
    "## Описание данных"
   ]
  },
  {
   "cell_type": "markdown",
   "metadata": {},
   "source": [
    "- **total_images** — число фотографий квартиры в объявлении\n",
    "- **last_price** — цена на момент снятия с публикации\n",
    "- **total_area** — площадь квартиры в квадратных метрах (м²)\n",
    "- **first_day_exposition** — дата публикации\n",
    "- **rooms** — число комнат\n",
    "- **ceiling_height** — высота потолков (м)\n",
    "- **floors_total** — всего этажей в доме\n",
    "- **living_area** — жилая площадь в квадратных метрах (м²)\n",
    "- **floor** — этаж\n",
    "- **is_apartment** — апартаменты (булев тип)\n",
    "- **is_studio** — квартира-студия (булев тип)\n",
    "- **is_open_plan** — свободная планировка (булев тип)\n",
    "- **kitchen_area** — площадь кухни в квадратных метрах (м²)\n",
    "- **balcony** — число балконов\n",
    "- **locality_name** — название населённого пункта\n",
    "- **airports_nearest** — расстояние до ближайшего аэропорта в метрах (м)\n",
    "- **city_centers_nearest\"** — расстояние до центра города (м)\n",
    "- **parks_around_3km** — число парков в радиусе 3 км\n",
    "- **parks_nearest** — расстояние до ближайшего парка (м)\n",
    "- **ponds_around_3km** — число водоёмов в радиусе 3 км\n",
    "- **ponds_nearest** — расстояние до ближайшего водоёма (м)\n",
    "- **days_exposition** — сколько дней было размещено объявление (от публикации до снятия)\n",
    "\n",
    "*Пояснение*: апартаменты — это нежилые помещения, не относящиеся к жилому фонду, но имеющие необходимые условия для проживания."
   ]
  },
  {
   "cell_type": "markdown",
   "metadata": {},
   "source": [
    "## Вопросы на которые надо ответить и инструкции которые надо выполнить\n",
    "- Изучите следующие параметры: площадь, цена, число комнат, высота потолков. Постройте гистограммы для каждого параметра.\n",
    "- Изучите время продажи квартиры. Постройте гистограмму. Посчитайте среднее и медиану. Опишите, сколько обычно занимает продажа. Когда можно считать, что продажи прошли очень быстро, а когда необычно долго?\n",
    "- Уберите редкие и выбивающиеся значения. Опишите, какие особенности обнаружили.\n",
    "- Какие факторы больше всего влияют на стоимость квартиры? Изучите, зависит ли цена от площади, числа комнат, удалённости от центра. Изучите зависимость цены от того, на каком этаже расположена квартира: первом, последнем или другом. Также изучите зависимость от даты размещения: дня недели, месяца и года.\n",
    "- Выберите 10 населённых пунктов с наибольшим числом объявлений. Посчитайте среднюю цену квадратного метра в этих населённых пунктах. Выделите среди них населённые пункты с самой высокой и низкой стоимостью жилья. Эти данные можно найти по имени в столбце 'locality_name'.\n",
    "- Изучите предложения квартир: для каждой квартиры есть информация о расстоянии до центра. Выделите квартиры в Санкт-Петербурге ('locality_name'). Ваша задача — выяснить, какая область входит в центр. Создайте столбец с расстоянием до центра в километрах: округлите до целых значений. После этого посчитайте среднюю цену для каждого километра. Постройте график: он должен показывать, как цена зависит от удалённости от центра. Определите границу, где график сильно меняется — это и будет центральная зона.\n",
    "- Выделите сегмент квартир в центре. Проанализируйте эту территорию и изучите следующие параметры: площадь, цена, число комнат, высота потолков. Также выделите факторы, которые влияют на стоимость квартиры (число комнат, этаж, удалённость от центра, дата размещения объявления). Сделайте выводы. Отличаются ли они от общих выводов по всему городу?"
   ]
  },
  {
   "cell_type": "markdown",
   "metadata": {},
   "source": [
    "# Подключаем библиотеки, функции и настраиваем отображение."
   ]
  },
  {
   "cell_type": "markdown",
   "metadata": {},
   "source": [
    "Бибилотеки"
   ]
  },
  {
   "cell_type": "code",
   "execution_count": 1,
   "metadata": {},
   "outputs": [],
   "source": [
    "import numpy as np\n",
    "import pandas as pd\n",
    "import matplotlib.pyplot as plt"
   ]
  },
  {
   "cell_type": "markdown",
   "metadata": {},
   "source": [
    "Отображение"
   ]
  },
  {
   "cell_type": "code",
   "execution_count": 2,
   "metadata": {},
   "outputs": [],
   "source": [
    "pd.set_option('display.max_columns', None)\n",
    "pd.options.display.float_format = lambda x: f'''{x:_.2f}'''"
   ]
  },
  {
   "cell_type": "markdown",
   "metadata": {},
   "source": [
    "Функция нахождения значения усов."
   ]
  },
  {
   "cell_type": "code",
   "execution_count": 3,
   "metadata": {},
   "outputs": [],
   "source": [
    "def get_whiskers(series):\n",
    "    q_1 = series.quantile(0.25)\n",
    "    q_3 = series.quantile(0.75)\n",
    "    iqr = q_3 - q_1\n",
    "    whis_low = q_1 - (1.5 * iqr)\n",
    "    whis_high = q_3 + (1.5 * iqr)\n",
    "    return (round(whis_low, 2), round(whis_high, 2))"
   ]
  },
  {
   "cell_type": "markdown",
   "metadata": {},
   "source": [
    "# Осмотр данных и поиск замечаний"
   ]
  },
  {
   "cell_type": "markdown",
   "metadata": {},
   "source": [
    "## Общий осмотр"
   ]
  },
  {
   "cell_type": "code",
   "execution_count": 87,
   "metadata": {},
   "outputs": [],
   "source": [
    "df = pd.read_csv(\"datasets/real_estate_data.csv\", sep=\"\\t\")"
   ]
  },
  {
   "cell_type": "code",
   "execution_count": 88,
   "metadata": {},
   "outputs": [],
   "source": [
    "df = df.rename(columns={\"studio\": \"is_studio\", \n",
    "                        \"open_plan\": \"is_open_plan\", \n",
    "                        \"cityCenters_nearest\": \"city_centers_nearest\",\n",
    "                        \"parks_around3000\": \"parks_around_3km\",\n",
    "                        \"ponds_around3000\": \"ponds_around_3km\"})"
   ]
  },
  {
   "cell_type": "markdown",
   "metadata": {},
   "source": [
    "Привели некоторые столбцы к более корректному виду."
   ]
  },
  {
   "cell_type": "code",
   "execution_count": 89,
   "metadata": {},
   "outputs": [
    {
     "data": {
      "text/html": [
       "<div>\n",
       "<style scoped>\n",
       "    .dataframe tbody tr th:only-of-type {\n",
       "        vertical-align: middle;\n",
       "    }\n",
       "\n",
       "    .dataframe tbody tr th {\n",
       "        vertical-align: top;\n",
       "    }\n",
       "\n",
       "    .dataframe thead th {\n",
       "        text-align: right;\n",
       "    }\n",
       "</style>\n",
       "<table border=\"1\" class=\"dataframe\">\n",
       "  <thead>\n",
       "    <tr style=\"text-align: right;\">\n",
       "      <th></th>\n",
       "      <th>total_images</th>\n",
       "      <th>last_price</th>\n",
       "      <th>total_area</th>\n",
       "      <th>first_day_exposition</th>\n",
       "      <th>rooms</th>\n",
       "      <th>ceiling_height</th>\n",
       "      <th>floors_total</th>\n",
       "      <th>living_area</th>\n",
       "      <th>floor</th>\n",
       "      <th>is_apartment</th>\n",
       "      <th>is_studio</th>\n",
       "      <th>is_open_plan</th>\n",
       "      <th>kitchen_area</th>\n",
       "      <th>balcony</th>\n",
       "      <th>locality_name</th>\n",
       "      <th>airports_nearest</th>\n",
       "      <th>city_centers_nearest</th>\n",
       "      <th>parks_around_3km</th>\n",
       "      <th>parks_nearest</th>\n",
       "      <th>ponds_around_3km</th>\n",
       "      <th>ponds_nearest</th>\n",
       "      <th>days_exposition</th>\n",
       "    </tr>\n",
       "  </thead>\n",
       "  <tbody>\n",
       "    <tr>\n",
       "      <th>0</th>\n",
       "      <td>20</td>\n",
       "      <td>13_000_000.00</td>\n",
       "      <td>108.00</td>\n",
       "      <td>2019-03-07T00:00:00</td>\n",
       "      <td>3</td>\n",
       "      <td>2.70</td>\n",
       "      <td>16.00</td>\n",
       "      <td>51.00</td>\n",
       "      <td>8</td>\n",
       "      <td>NaN</td>\n",
       "      <td>False</td>\n",
       "      <td>False</td>\n",
       "      <td>25.00</td>\n",
       "      <td>NaN</td>\n",
       "      <td>Санкт-Петербург</td>\n",
       "      <td>18_863.00</td>\n",
       "      <td>16_028.00</td>\n",
       "      <td>1.00</td>\n",
       "      <td>482.00</td>\n",
       "      <td>2.00</td>\n",
       "      <td>755.00</td>\n",
       "      <td>NaN</td>\n",
       "    </tr>\n",
       "    <tr>\n",
       "      <th>1</th>\n",
       "      <td>7</td>\n",
       "      <td>3_350_000.00</td>\n",
       "      <td>40.40</td>\n",
       "      <td>2018-12-04T00:00:00</td>\n",
       "      <td>1</td>\n",
       "      <td>NaN</td>\n",
       "      <td>11.00</td>\n",
       "      <td>18.60</td>\n",
       "      <td>1</td>\n",
       "      <td>NaN</td>\n",
       "      <td>False</td>\n",
       "      <td>False</td>\n",
       "      <td>11.00</td>\n",
       "      <td>2.00</td>\n",
       "      <td>посёлок Шушары</td>\n",
       "      <td>12_817.00</td>\n",
       "      <td>18_603.00</td>\n",
       "      <td>0.00</td>\n",
       "      <td>NaN</td>\n",
       "      <td>0.00</td>\n",
       "      <td>NaN</td>\n",
       "      <td>81.00</td>\n",
       "    </tr>\n",
       "    <tr>\n",
       "      <th>2</th>\n",
       "      <td>10</td>\n",
       "      <td>5_196_000.00</td>\n",
       "      <td>56.00</td>\n",
       "      <td>2015-08-20T00:00:00</td>\n",
       "      <td>2</td>\n",
       "      <td>NaN</td>\n",
       "      <td>5.00</td>\n",
       "      <td>34.30</td>\n",
       "      <td>4</td>\n",
       "      <td>NaN</td>\n",
       "      <td>False</td>\n",
       "      <td>False</td>\n",
       "      <td>8.30</td>\n",
       "      <td>0.00</td>\n",
       "      <td>Санкт-Петербург</td>\n",
       "      <td>21_741.00</td>\n",
       "      <td>13_933.00</td>\n",
       "      <td>1.00</td>\n",
       "      <td>90.00</td>\n",
       "      <td>2.00</td>\n",
       "      <td>574.00</td>\n",
       "      <td>558.00</td>\n",
       "    </tr>\n",
       "    <tr>\n",
       "      <th>3</th>\n",
       "      <td>0</td>\n",
       "      <td>64_900_000.00</td>\n",
       "      <td>159.00</td>\n",
       "      <td>2015-07-24T00:00:00</td>\n",
       "      <td>3</td>\n",
       "      <td>NaN</td>\n",
       "      <td>14.00</td>\n",
       "      <td>NaN</td>\n",
       "      <td>9</td>\n",
       "      <td>NaN</td>\n",
       "      <td>False</td>\n",
       "      <td>False</td>\n",
       "      <td>NaN</td>\n",
       "      <td>0.00</td>\n",
       "      <td>Санкт-Петербург</td>\n",
       "      <td>28_098.00</td>\n",
       "      <td>6_800.00</td>\n",
       "      <td>2.00</td>\n",
       "      <td>84.00</td>\n",
       "      <td>3.00</td>\n",
       "      <td>234.00</td>\n",
       "      <td>424.00</td>\n",
       "    </tr>\n",
       "    <tr>\n",
       "      <th>4</th>\n",
       "      <td>2</td>\n",
       "      <td>10_000_000.00</td>\n",
       "      <td>100.00</td>\n",
       "      <td>2018-06-19T00:00:00</td>\n",
       "      <td>2</td>\n",
       "      <td>3.03</td>\n",
       "      <td>14.00</td>\n",
       "      <td>32.00</td>\n",
       "      <td>13</td>\n",
       "      <td>NaN</td>\n",
       "      <td>False</td>\n",
       "      <td>False</td>\n",
       "      <td>41.00</td>\n",
       "      <td>NaN</td>\n",
       "      <td>Санкт-Петербург</td>\n",
       "      <td>31_856.00</td>\n",
       "      <td>8_098.00</td>\n",
       "      <td>2.00</td>\n",
       "      <td>112.00</td>\n",
       "      <td>1.00</td>\n",
       "      <td>48.00</td>\n",
       "      <td>121.00</td>\n",
       "    </tr>\n",
       "    <tr>\n",
       "      <th>...</th>\n",
       "      <td>...</td>\n",
       "      <td>...</td>\n",
       "      <td>...</td>\n",
       "      <td>...</td>\n",
       "      <td>...</td>\n",
       "      <td>...</td>\n",
       "      <td>...</td>\n",
       "      <td>...</td>\n",
       "      <td>...</td>\n",
       "      <td>...</td>\n",
       "      <td>...</td>\n",
       "      <td>...</td>\n",
       "      <td>...</td>\n",
       "      <td>...</td>\n",
       "      <td>...</td>\n",
       "      <td>...</td>\n",
       "      <td>...</td>\n",
       "      <td>...</td>\n",
       "      <td>...</td>\n",
       "      <td>...</td>\n",
       "      <td>...</td>\n",
       "      <td>...</td>\n",
       "    </tr>\n",
       "    <tr>\n",
       "      <th>23694</th>\n",
       "      <td>9</td>\n",
       "      <td>9_700_000.00</td>\n",
       "      <td>133.81</td>\n",
       "      <td>2017-03-21T00:00:00</td>\n",
       "      <td>3</td>\n",
       "      <td>3.70</td>\n",
       "      <td>5.00</td>\n",
       "      <td>73.30</td>\n",
       "      <td>3</td>\n",
       "      <td>NaN</td>\n",
       "      <td>False</td>\n",
       "      <td>False</td>\n",
       "      <td>13.83</td>\n",
       "      <td>NaN</td>\n",
       "      <td>Санкт-Петербург</td>\n",
       "      <td>24_665.00</td>\n",
       "      <td>4_232.00</td>\n",
       "      <td>1.00</td>\n",
       "      <td>796.00</td>\n",
       "      <td>3.00</td>\n",
       "      <td>381.00</td>\n",
       "      <td>NaN</td>\n",
       "    </tr>\n",
       "    <tr>\n",
       "      <th>23695</th>\n",
       "      <td>14</td>\n",
       "      <td>3_100_000.00</td>\n",
       "      <td>59.00</td>\n",
       "      <td>2018-01-15T00:00:00</td>\n",
       "      <td>3</td>\n",
       "      <td>NaN</td>\n",
       "      <td>5.00</td>\n",
       "      <td>38.00</td>\n",
       "      <td>4</td>\n",
       "      <td>NaN</td>\n",
       "      <td>False</td>\n",
       "      <td>False</td>\n",
       "      <td>8.50</td>\n",
       "      <td>NaN</td>\n",
       "      <td>Тосно</td>\n",
       "      <td>NaN</td>\n",
       "      <td>NaN</td>\n",
       "      <td>NaN</td>\n",
       "      <td>NaN</td>\n",
       "      <td>NaN</td>\n",
       "      <td>NaN</td>\n",
       "      <td>45.00</td>\n",
       "    </tr>\n",
       "    <tr>\n",
       "      <th>23696</th>\n",
       "      <td>18</td>\n",
       "      <td>2_500_000.00</td>\n",
       "      <td>56.70</td>\n",
       "      <td>2018-02-11T00:00:00</td>\n",
       "      <td>2</td>\n",
       "      <td>NaN</td>\n",
       "      <td>3.00</td>\n",
       "      <td>29.70</td>\n",
       "      <td>1</td>\n",
       "      <td>NaN</td>\n",
       "      <td>False</td>\n",
       "      <td>False</td>\n",
       "      <td>NaN</td>\n",
       "      <td>NaN</td>\n",
       "      <td>село Рождествено</td>\n",
       "      <td>NaN</td>\n",
       "      <td>NaN</td>\n",
       "      <td>NaN</td>\n",
       "      <td>NaN</td>\n",
       "      <td>NaN</td>\n",
       "      <td>NaN</td>\n",
       "      <td>NaN</td>\n",
       "    </tr>\n",
       "    <tr>\n",
       "      <th>23697</th>\n",
       "      <td>13</td>\n",
       "      <td>11_475_000.00</td>\n",
       "      <td>76.75</td>\n",
       "      <td>2017-03-28T00:00:00</td>\n",
       "      <td>2</td>\n",
       "      <td>3.00</td>\n",
       "      <td>17.00</td>\n",
       "      <td>NaN</td>\n",
       "      <td>12</td>\n",
       "      <td>NaN</td>\n",
       "      <td>False</td>\n",
       "      <td>False</td>\n",
       "      <td>23.30</td>\n",
       "      <td>2.00</td>\n",
       "      <td>Санкт-Петербург</td>\n",
       "      <td>39_140.00</td>\n",
       "      <td>10_364.00</td>\n",
       "      <td>2.00</td>\n",
       "      <td>173.00</td>\n",
       "      <td>3.00</td>\n",
       "      <td>196.00</td>\n",
       "      <td>602.00</td>\n",
       "    </tr>\n",
       "    <tr>\n",
       "      <th>23698</th>\n",
       "      <td>4</td>\n",
       "      <td>1_350_000.00</td>\n",
       "      <td>32.30</td>\n",
       "      <td>2017-07-21T00:00:00</td>\n",
       "      <td>1</td>\n",
       "      <td>2.50</td>\n",
       "      <td>5.00</td>\n",
       "      <td>12.30</td>\n",
       "      <td>1</td>\n",
       "      <td>NaN</td>\n",
       "      <td>False</td>\n",
       "      <td>False</td>\n",
       "      <td>9.00</td>\n",
       "      <td>NaN</td>\n",
       "      <td>поселок Новый Учхоз</td>\n",
       "      <td>NaN</td>\n",
       "      <td>NaN</td>\n",
       "      <td>NaN</td>\n",
       "      <td>NaN</td>\n",
       "      <td>NaN</td>\n",
       "      <td>NaN</td>\n",
       "      <td>NaN</td>\n",
       "    </tr>\n",
       "  </tbody>\n",
       "</table>\n",
       "<p>23699 rows × 22 columns</p>\n",
       "</div>"
      ],
      "text/plain": [
       "       total_images    last_price  total_area first_day_exposition  rooms  \\\n",
       "0                20 13_000_000.00      108.00  2019-03-07T00:00:00      3   \n",
       "1                 7  3_350_000.00       40.40  2018-12-04T00:00:00      1   \n",
       "2                10  5_196_000.00       56.00  2015-08-20T00:00:00      2   \n",
       "3                 0 64_900_000.00      159.00  2015-07-24T00:00:00      3   \n",
       "4                 2 10_000_000.00      100.00  2018-06-19T00:00:00      2   \n",
       "...             ...           ...         ...                  ...    ...   \n",
       "23694             9  9_700_000.00      133.81  2017-03-21T00:00:00      3   \n",
       "23695            14  3_100_000.00       59.00  2018-01-15T00:00:00      3   \n",
       "23696            18  2_500_000.00       56.70  2018-02-11T00:00:00      2   \n",
       "23697            13 11_475_000.00       76.75  2017-03-28T00:00:00      2   \n",
       "23698             4  1_350_000.00       32.30  2017-07-21T00:00:00      1   \n",
       "\n",
       "       ceiling_height  floors_total  living_area  floor is_apartment  \\\n",
       "0                2.70         16.00        51.00      8          NaN   \n",
       "1                 NaN         11.00        18.60      1          NaN   \n",
       "2                 NaN          5.00        34.30      4          NaN   \n",
       "3                 NaN         14.00          NaN      9          NaN   \n",
       "4                3.03         14.00        32.00     13          NaN   \n",
       "...               ...           ...          ...    ...          ...   \n",
       "23694            3.70          5.00        73.30      3          NaN   \n",
       "23695             NaN          5.00        38.00      4          NaN   \n",
       "23696             NaN          3.00        29.70      1          NaN   \n",
       "23697            3.00         17.00          NaN     12          NaN   \n",
       "23698            2.50          5.00        12.30      1          NaN   \n",
       "\n",
       "       is_studio  is_open_plan  kitchen_area  balcony        locality_name  \\\n",
       "0          False         False         25.00      NaN      Санкт-Петербург   \n",
       "1          False         False         11.00     2.00       посёлок Шушары   \n",
       "2          False         False          8.30     0.00      Санкт-Петербург   \n",
       "3          False         False           NaN     0.00      Санкт-Петербург   \n",
       "4          False         False         41.00      NaN      Санкт-Петербург   \n",
       "...          ...           ...           ...      ...                  ...   \n",
       "23694      False         False         13.83      NaN      Санкт-Петербург   \n",
       "23695      False         False          8.50      NaN                Тосно   \n",
       "23696      False         False           NaN      NaN     село Рождествено   \n",
       "23697      False         False         23.30     2.00      Санкт-Петербург   \n",
       "23698      False         False          9.00      NaN  поселок Новый Учхоз   \n",
       "\n",
       "       airports_nearest  city_centers_nearest  parks_around_3km  \\\n",
       "0             18_863.00             16_028.00              1.00   \n",
       "1             12_817.00             18_603.00              0.00   \n",
       "2             21_741.00             13_933.00              1.00   \n",
       "3             28_098.00              6_800.00              2.00   \n",
       "4             31_856.00              8_098.00              2.00   \n",
       "...                 ...                   ...               ...   \n",
       "23694         24_665.00              4_232.00              1.00   \n",
       "23695               NaN                   NaN               NaN   \n",
       "23696               NaN                   NaN               NaN   \n",
       "23697         39_140.00             10_364.00              2.00   \n",
       "23698               NaN                   NaN               NaN   \n",
       "\n",
       "       parks_nearest  ponds_around_3km  ponds_nearest  days_exposition  \n",
       "0             482.00              2.00         755.00              NaN  \n",
       "1                NaN              0.00            NaN            81.00  \n",
       "2              90.00              2.00         574.00           558.00  \n",
       "3              84.00              3.00         234.00           424.00  \n",
       "4             112.00              1.00          48.00           121.00  \n",
       "...              ...               ...            ...              ...  \n",
       "23694         796.00              3.00         381.00              NaN  \n",
       "23695            NaN               NaN            NaN            45.00  \n",
       "23696            NaN               NaN            NaN              NaN  \n",
       "23697         173.00              3.00         196.00           602.00  \n",
       "23698            NaN               NaN            NaN              NaN  \n",
       "\n",
       "[23699 rows x 22 columns]"
      ]
     },
     "execution_count": 89,
     "metadata": {},
     "output_type": "execute_result"
    }
   ],
   "source": [
    "df"
   ]
  },
  {
   "cell_type": "markdown",
   "metadata": {},
   "source": [
    "**locality_name**: нужно привести к нижнему регистру и избавиться от буквы \"ё\" в словах, для стандартизации столбца."
   ]
  },
  {
   "cell_type": "code",
   "execution_count": 90,
   "metadata": {},
   "outputs": [
    {
     "name": "stdout",
     "output_type": "stream",
     "text": [
      "<class 'pandas.core.frame.DataFrame'>\n",
      "RangeIndex: 23699 entries, 0 to 23698\n",
      "Data columns (total 22 columns):\n",
      " #   Column                Non-Null Count  Dtype  \n",
      "---  ------                --------------  -----  \n",
      " 0   total_images          23699 non-null  int64  \n",
      " 1   last_price            23699 non-null  float64\n",
      " 2   total_area            23699 non-null  float64\n",
      " 3   first_day_exposition  23699 non-null  object \n",
      " 4   rooms                 23699 non-null  int64  \n",
      " 5   ceiling_height        14504 non-null  float64\n",
      " 6   floors_total          23613 non-null  float64\n",
      " 7   living_area           21796 non-null  float64\n",
      " 8   floor                 23699 non-null  int64  \n",
      " 9   is_apartment          2775 non-null   object \n",
      " 10  is_studio             23699 non-null  bool   \n",
      " 11  is_open_plan          23699 non-null  bool   \n",
      " 12  kitchen_area          21421 non-null  float64\n",
      " 13  balcony               12180 non-null  float64\n",
      " 14  locality_name         23650 non-null  object \n",
      " 15  airports_nearest      18157 non-null  float64\n",
      " 16  city_centers_nearest  18180 non-null  float64\n",
      " 17  parks_around_3km      18181 non-null  float64\n",
      " 18  parks_nearest         8079 non-null   float64\n",
      " 19  ponds_around_3km      18181 non-null  float64\n",
      " 20  ponds_nearest         9110 non-null   float64\n",
      " 21  days_exposition       20518 non-null  float64\n",
      "dtypes: bool(2), float64(14), int64(3), object(3)\n",
      "memory usage: 3.7+ MB\n"
     ]
    }
   ],
   "source": [
    "df.info()"
   ]
  },
  {
   "cell_type": "markdown",
   "metadata": {},
   "source": [
    "**first_day_exposition**: это дата первой публикации, тут нужен тип данных datetime64а не object. **floors_total**: общее число этажей не может быть дробным числом, заменить на int64. **is_apartment**: должен быть булевый тип, а стоит object, проверить. **balcony**: число балконов не может быть дробным, меняем на int64. **parks_around_3km** и **ponds_around_3km**: количество не может быть дробным числом, поменять на int64. **days_exposition**: количество дней не может быть дробным, поменять на int64. "
   ]
  },
  {
   "cell_type": "code",
   "execution_count": 91,
   "metadata": {},
   "outputs": [
    {
     "data": {
      "text/html": [
       "<div>\n",
       "<style scoped>\n",
       "    .dataframe tbody tr th:only-of-type {\n",
       "        vertical-align: middle;\n",
       "    }\n",
       "\n",
       "    .dataframe tbody tr th {\n",
       "        vertical-align: top;\n",
       "    }\n",
       "\n",
       "    .dataframe thead th {\n",
       "        text-align: right;\n",
       "    }\n",
       "</style>\n",
       "<table border=\"1\" class=\"dataframe\">\n",
       "  <thead>\n",
       "    <tr style=\"text-align: right;\">\n",
       "      <th></th>\n",
       "      <th>total_images</th>\n",
       "      <th>last_price</th>\n",
       "      <th>total_area</th>\n",
       "      <th>rooms</th>\n",
       "      <th>ceiling_height</th>\n",
       "      <th>floors_total</th>\n",
       "      <th>living_area</th>\n",
       "      <th>floor</th>\n",
       "      <th>kitchen_area</th>\n",
       "      <th>balcony</th>\n",
       "      <th>airports_nearest</th>\n",
       "      <th>city_centers_nearest</th>\n",
       "      <th>parks_around_3km</th>\n",
       "      <th>parks_nearest</th>\n",
       "      <th>ponds_around_3km</th>\n",
       "      <th>ponds_nearest</th>\n",
       "      <th>days_exposition</th>\n",
       "    </tr>\n",
       "  </thead>\n",
       "  <tbody>\n",
       "    <tr>\n",
       "      <th>count</th>\n",
       "      <td>23_699.00</td>\n",
       "      <td>23_699.00</td>\n",
       "      <td>23_699.00</td>\n",
       "      <td>23_699.00</td>\n",
       "      <td>14_504.00</td>\n",
       "      <td>23_613.00</td>\n",
       "      <td>21_796.00</td>\n",
       "      <td>23_699.00</td>\n",
       "      <td>21_421.00</td>\n",
       "      <td>12_180.00</td>\n",
       "      <td>18_157.00</td>\n",
       "      <td>18_180.00</td>\n",
       "      <td>18_181.00</td>\n",
       "      <td>8_079.00</td>\n",
       "      <td>18_181.00</td>\n",
       "      <td>9_110.00</td>\n",
       "      <td>20_518.00</td>\n",
       "    </tr>\n",
       "    <tr>\n",
       "      <th>mean</th>\n",
       "      <td>9.86</td>\n",
       "      <td>6_541_548.77</td>\n",
       "      <td>60.35</td>\n",
       "      <td>2.07</td>\n",
       "      <td>2.77</td>\n",
       "      <td>10.67</td>\n",
       "      <td>34.46</td>\n",
       "      <td>5.89</td>\n",
       "      <td>10.57</td>\n",
       "      <td>1.15</td>\n",
       "      <td>28_793.67</td>\n",
       "      <td>14_191.28</td>\n",
       "      <td>0.61</td>\n",
       "      <td>490.80</td>\n",
       "      <td>0.77</td>\n",
       "      <td>517.98</td>\n",
       "      <td>180.89</td>\n",
       "    </tr>\n",
       "    <tr>\n",
       "      <th>std</th>\n",
       "      <td>5.68</td>\n",
       "      <td>10_887_013.27</td>\n",
       "      <td>35.65</td>\n",
       "      <td>1.08</td>\n",
       "      <td>1.26</td>\n",
       "      <td>6.60</td>\n",
       "      <td>22.03</td>\n",
       "      <td>4.89</td>\n",
       "      <td>5.91</td>\n",
       "      <td>1.07</td>\n",
       "      <td>12_630.88</td>\n",
       "      <td>8_608.39</td>\n",
       "      <td>0.80</td>\n",
       "      <td>342.32</td>\n",
       "      <td>0.94</td>\n",
       "      <td>277.72</td>\n",
       "      <td>219.73</td>\n",
       "    </tr>\n",
       "    <tr>\n",
       "      <th>min</th>\n",
       "      <td>0.00</td>\n",
       "      <td>12_190.00</td>\n",
       "      <td>12.00</td>\n",
       "      <td>0.00</td>\n",
       "      <td>1.00</td>\n",
       "      <td>1.00</td>\n",
       "      <td>2.00</td>\n",
       "      <td>1.00</td>\n",
       "      <td>1.30</td>\n",
       "      <td>0.00</td>\n",
       "      <td>0.00</td>\n",
       "      <td>181.00</td>\n",
       "      <td>0.00</td>\n",
       "      <td>1.00</td>\n",
       "      <td>0.00</td>\n",
       "      <td>13.00</td>\n",
       "      <td>1.00</td>\n",
       "    </tr>\n",
       "    <tr>\n",
       "      <th>25%</th>\n",
       "      <td>6.00</td>\n",
       "      <td>3_400_000.00</td>\n",
       "      <td>40.00</td>\n",
       "      <td>1.00</td>\n",
       "      <td>2.52</td>\n",
       "      <td>5.00</td>\n",
       "      <td>18.60</td>\n",
       "      <td>2.00</td>\n",
       "      <td>7.00</td>\n",
       "      <td>0.00</td>\n",
       "      <td>18_585.00</td>\n",
       "      <td>9_238.00</td>\n",
       "      <td>0.00</td>\n",
       "      <td>288.00</td>\n",
       "      <td>0.00</td>\n",
       "      <td>294.00</td>\n",
       "      <td>45.00</td>\n",
       "    </tr>\n",
       "    <tr>\n",
       "      <th>50%</th>\n",
       "      <td>9.00</td>\n",
       "      <td>4_650_000.00</td>\n",
       "      <td>52.00</td>\n",
       "      <td>2.00</td>\n",
       "      <td>2.65</td>\n",
       "      <td>9.00</td>\n",
       "      <td>30.00</td>\n",
       "      <td>4.00</td>\n",
       "      <td>9.10</td>\n",
       "      <td>1.00</td>\n",
       "      <td>26_726.00</td>\n",
       "      <td>13_098.50</td>\n",
       "      <td>0.00</td>\n",
       "      <td>455.00</td>\n",
       "      <td>1.00</td>\n",
       "      <td>502.00</td>\n",
       "      <td>95.00</td>\n",
       "    </tr>\n",
       "    <tr>\n",
       "      <th>75%</th>\n",
       "      <td>14.00</td>\n",
       "      <td>6_800_000.00</td>\n",
       "      <td>69.90</td>\n",
       "      <td>3.00</td>\n",
       "      <td>2.80</td>\n",
       "      <td>16.00</td>\n",
       "      <td>42.30</td>\n",
       "      <td>8.00</td>\n",
       "      <td>12.00</td>\n",
       "      <td>2.00</td>\n",
       "      <td>37_273.00</td>\n",
       "      <td>16_293.00</td>\n",
       "      <td>1.00</td>\n",
       "      <td>612.00</td>\n",
       "      <td>1.00</td>\n",
       "      <td>729.00</td>\n",
       "      <td>232.00</td>\n",
       "    </tr>\n",
       "    <tr>\n",
       "      <th>max</th>\n",
       "      <td>50.00</td>\n",
       "      <td>763_000_000.00</td>\n",
       "      <td>900.00</td>\n",
       "      <td>19.00</td>\n",
       "      <td>100.00</td>\n",
       "      <td>60.00</td>\n",
       "      <td>409.70</td>\n",
       "      <td>33.00</td>\n",
       "      <td>112.00</td>\n",
       "      <td>5.00</td>\n",
       "      <td>84_869.00</td>\n",
       "      <td>65_968.00</td>\n",
       "      <td>3.00</td>\n",
       "      <td>3_190.00</td>\n",
       "      <td>3.00</td>\n",
       "      <td>1_344.00</td>\n",
       "      <td>1_580.00</td>\n",
       "    </tr>\n",
       "  </tbody>\n",
       "</table>\n",
       "</div>"
      ],
      "text/plain": [
       "       total_images     last_price  total_area     rooms  ceiling_height  \\\n",
       "count     23_699.00      23_699.00   23_699.00 23_699.00       14_504.00   \n",
       "mean           9.86   6_541_548.77       60.35      2.07            2.77   \n",
       "std            5.68  10_887_013.27       35.65      1.08            1.26   \n",
       "min            0.00      12_190.00       12.00      0.00            1.00   \n",
       "25%            6.00   3_400_000.00       40.00      1.00            2.52   \n",
       "50%            9.00   4_650_000.00       52.00      2.00            2.65   \n",
       "75%           14.00   6_800_000.00       69.90      3.00            2.80   \n",
       "max           50.00 763_000_000.00      900.00     19.00          100.00   \n",
       "\n",
       "       floors_total  living_area     floor  kitchen_area   balcony  \\\n",
       "count     23_613.00    21_796.00 23_699.00     21_421.00 12_180.00   \n",
       "mean          10.67        34.46      5.89         10.57      1.15   \n",
       "std            6.60        22.03      4.89          5.91      1.07   \n",
       "min            1.00         2.00      1.00          1.30      0.00   \n",
       "25%            5.00        18.60      2.00          7.00      0.00   \n",
       "50%            9.00        30.00      4.00          9.10      1.00   \n",
       "75%           16.00        42.30      8.00         12.00      2.00   \n",
       "max           60.00       409.70     33.00        112.00      5.00   \n",
       "\n",
       "       airports_nearest  city_centers_nearest  parks_around_3km  \\\n",
       "count         18_157.00             18_180.00         18_181.00   \n",
       "mean          28_793.67             14_191.28              0.61   \n",
       "std           12_630.88              8_608.39              0.80   \n",
       "min                0.00                181.00              0.00   \n",
       "25%           18_585.00              9_238.00              0.00   \n",
       "50%           26_726.00             13_098.50              0.00   \n",
       "75%           37_273.00             16_293.00              1.00   \n",
       "max           84_869.00             65_968.00              3.00   \n",
       "\n",
       "       parks_nearest  ponds_around_3km  ponds_nearest  days_exposition  \n",
       "count       8_079.00         18_181.00       9_110.00        20_518.00  \n",
       "mean          490.80              0.77         517.98           180.89  \n",
       "std           342.32              0.94         277.72           219.73  \n",
       "min             1.00              0.00          13.00             1.00  \n",
       "25%           288.00              0.00         294.00            45.00  \n",
       "50%           455.00              1.00         502.00            95.00  \n",
       "75%           612.00              1.00         729.00           232.00  \n",
       "max         3_190.00              3.00       1_344.00         1_580.00  "
      ]
     },
     "execution_count": 91,
     "metadata": {},
     "output_type": "execute_result"
    }
   ],
   "source": [
    "df.describe()"
   ]
  },
  {
   "cell_type": "markdown",
   "metadata": {},
   "source": [
    "## Поиск странных значений"
   ]
  },
  {
   "cell_type": "markdown",
   "metadata": {},
   "source": [
    "### Last_price"
   ]
  },
  {
   "cell_type": "code",
   "execution_count": 92,
   "metadata": {},
   "outputs": [
    {
     "data": {
      "text/html": [
       "<div>\n",
       "<style scoped>\n",
       "    .dataframe tbody tr th:only-of-type {\n",
       "        vertical-align: middle;\n",
       "    }\n",
       "\n",
       "    .dataframe tbody tr th {\n",
       "        vertical-align: top;\n",
       "    }\n",
       "\n",
       "    .dataframe thead th {\n",
       "        text-align: right;\n",
       "    }\n",
       "</style>\n",
       "<table border=\"1\" class=\"dataframe\">\n",
       "  <thead>\n",
       "    <tr style=\"text-align: right;\">\n",
       "      <th></th>\n",
       "      <th>total_images</th>\n",
       "      <th>last_price</th>\n",
       "      <th>total_area</th>\n",
       "      <th>first_day_exposition</th>\n",
       "      <th>rooms</th>\n",
       "      <th>ceiling_height</th>\n",
       "      <th>floors_total</th>\n",
       "      <th>living_area</th>\n",
       "      <th>floor</th>\n",
       "      <th>is_apartment</th>\n",
       "      <th>is_studio</th>\n",
       "      <th>is_open_plan</th>\n",
       "      <th>kitchen_area</th>\n",
       "      <th>balcony</th>\n",
       "      <th>locality_name</th>\n",
       "      <th>airports_nearest</th>\n",
       "      <th>city_centers_nearest</th>\n",
       "      <th>parks_around_3km</th>\n",
       "      <th>parks_nearest</th>\n",
       "      <th>ponds_around_3km</th>\n",
       "      <th>ponds_nearest</th>\n",
       "      <th>days_exposition</th>\n",
       "    </tr>\n",
       "  </thead>\n",
       "  <tbody>\n",
       "    <tr>\n",
       "      <th>8793</th>\n",
       "      <td>7</td>\n",
       "      <td>12_190.00</td>\n",
       "      <td>109.00</td>\n",
       "      <td>2019-03-20T00:00:00</td>\n",
       "      <td>2</td>\n",
       "      <td>2.75</td>\n",
       "      <td>25.00</td>\n",
       "      <td>32.00</td>\n",
       "      <td>25</td>\n",
       "      <td>NaN</td>\n",
       "      <td>False</td>\n",
       "      <td>False</td>\n",
       "      <td>40.50</td>\n",
       "      <td>NaN</td>\n",
       "      <td>Санкт-Петербург</td>\n",
       "      <td>36_421.00</td>\n",
       "      <td>9_176.00</td>\n",
       "      <td>1.00</td>\n",
       "      <td>805.00</td>\n",
       "      <td>0.00</td>\n",
       "      <td>NaN</td>\n",
       "      <td>8.00</td>\n",
       "    </tr>\n",
       "  </tbody>\n",
       "</table>\n",
       "</div>"
      ],
      "text/plain": [
       "      total_images  last_price  total_area first_day_exposition  rooms  \\\n",
       "8793             7   12_190.00      109.00  2019-03-20T00:00:00      2   \n",
       "\n",
       "      ceiling_height  floors_total  living_area  floor is_apartment  \\\n",
       "8793            2.75         25.00        32.00     25          NaN   \n",
       "\n",
       "      is_studio  is_open_plan  kitchen_area  balcony    locality_name  \\\n",
       "8793      False         False         40.50      NaN  Санкт-Петербург   \n",
       "\n",
       "      airports_nearest  city_centers_nearest  parks_around_3km  parks_nearest  \\\n",
       "8793         36_421.00              9_176.00              1.00         805.00   \n",
       "\n",
       "      ponds_around_3km  ponds_nearest  days_exposition  \n",
       "8793              0.00            NaN             8.00  "
      ]
     },
     "execution_count": 92,
     "metadata": {},
     "output_type": "execute_result"
    }
   ],
   "source": [
    "df[df[\"last_price\"] < 400_000]"
   ]
  },
  {
   "cell_type": "code",
   "execution_count": 93,
   "metadata": {},
   "outputs": [
    {
     "data": {
      "text/html": [
       "<div>\n",
       "<style scoped>\n",
       "    .dataframe tbody tr th:only-of-type {\n",
       "        vertical-align: middle;\n",
       "    }\n",
       "\n",
       "    .dataframe tbody tr th {\n",
       "        vertical-align: top;\n",
       "    }\n",
       "\n",
       "    .dataframe thead th {\n",
       "        text-align: right;\n",
       "    }\n",
       "</style>\n",
       "<table border=\"1\" class=\"dataframe\">\n",
       "  <thead>\n",
       "    <tr style=\"text-align: right;\">\n",
       "      <th></th>\n",
       "      <th>total_images</th>\n",
       "      <th>last_price</th>\n",
       "      <th>total_area</th>\n",
       "      <th>first_day_exposition</th>\n",
       "      <th>rooms</th>\n",
       "      <th>ceiling_height</th>\n",
       "      <th>floors_total</th>\n",
       "      <th>living_area</th>\n",
       "      <th>floor</th>\n",
       "      <th>is_apartment</th>\n",
       "      <th>is_studio</th>\n",
       "      <th>is_open_plan</th>\n",
       "      <th>kitchen_area</th>\n",
       "      <th>balcony</th>\n",
       "      <th>locality_name</th>\n",
       "      <th>airports_nearest</th>\n",
       "      <th>city_centers_nearest</th>\n",
       "      <th>parks_around_3km</th>\n",
       "      <th>parks_nearest</th>\n",
       "      <th>ponds_around_3km</th>\n",
       "      <th>ponds_nearest</th>\n",
       "      <th>days_exposition</th>\n",
       "    </tr>\n",
       "  </thead>\n",
       "  <tbody>\n",
       "    <tr>\n",
       "      <th>12971</th>\n",
       "      <td>19</td>\n",
       "      <td>763_000_000.00</td>\n",
       "      <td>400.00</td>\n",
       "      <td>2017-09-30T00:00:00</td>\n",
       "      <td>7</td>\n",
       "      <td>NaN</td>\n",
       "      <td>10.00</td>\n",
       "      <td>250.00</td>\n",
       "      <td>10</td>\n",
       "      <td>NaN</td>\n",
       "      <td>False</td>\n",
       "      <td>False</td>\n",
       "      <td>NaN</td>\n",
       "      <td>2.00</td>\n",
       "      <td>Санкт-Петербург</td>\n",
       "      <td>25_108.00</td>\n",
       "      <td>3_956.00</td>\n",
       "      <td>1.00</td>\n",
       "      <td>530.00</td>\n",
       "      <td>3.00</td>\n",
       "      <td>756.00</td>\n",
       "      <td>33.00</td>\n",
       "    </tr>\n",
       "    <tr>\n",
       "      <th>14706</th>\n",
       "      <td>15</td>\n",
       "      <td>401_300_000.00</td>\n",
       "      <td>401.00</td>\n",
       "      <td>2016-02-20T00:00:00</td>\n",
       "      <td>5</td>\n",
       "      <td>NaN</td>\n",
       "      <td>9.00</td>\n",
       "      <td>204.00</td>\n",
       "      <td>9</td>\n",
       "      <td>False</td>\n",
       "      <td>False</td>\n",
       "      <td>False</td>\n",
       "      <td>24.00</td>\n",
       "      <td>3.00</td>\n",
       "      <td>Санкт-Петербург</td>\n",
       "      <td>21_912.00</td>\n",
       "      <td>2_389.00</td>\n",
       "      <td>1.00</td>\n",
       "      <td>545.00</td>\n",
       "      <td>1.00</td>\n",
       "      <td>478.00</td>\n",
       "      <td>393.00</td>\n",
       "    </tr>\n",
       "    <tr>\n",
       "      <th>19540</th>\n",
       "      <td>8</td>\n",
       "      <td>420_000_000.00</td>\n",
       "      <td>900.00</td>\n",
       "      <td>2017-12-06T00:00:00</td>\n",
       "      <td>12</td>\n",
       "      <td>2.80</td>\n",
       "      <td>25.00</td>\n",
       "      <td>409.70</td>\n",
       "      <td>25</td>\n",
       "      <td>NaN</td>\n",
       "      <td>False</td>\n",
       "      <td>False</td>\n",
       "      <td>112.00</td>\n",
       "      <td>NaN</td>\n",
       "      <td>Санкт-Петербург</td>\n",
       "      <td>30_706.00</td>\n",
       "      <td>7_877.00</td>\n",
       "      <td>0.00</td>\n",
       "      <td>NaN</td>\n",
       "      <td>2.00</td>\n",
       "      <td>318.00</td>\n",
       "      <td>106.00</td>\n",
       "    </tr>\n",
       "  </tbody>\n",
       "</table>\n",
       "</div>"
      ],
      "text/plain": [
       "       total_images     last_price  total_area first_day_exposition  rooms  \\\n",
       "12971            19 763_000_000.00      400.00  2017-09-30T00:00:00      7   \n",
       "14706            15 401_300_000.00      401.00  2016-02-20T00:00:00      5   \n",
       "19540             8 420_000_000.00      900.00  2017-12-06T00:00:00     12   \n",
       "\n",
       "       ceiling_height  floors_total  living_area  floor is_apartment  \\\n",
       "12971             NaN         10.00       250.00     10          NaN   \n",
       "14706             NaN          9.00       204.00      9        False   \n",
       "19540            2.80         25.00       409.70     25          NaN   \n",
       "\n",
       "       is_studio  is_open_plan  kitchen_area  balcony    locality_name  \\\n",
       "12971      False         False           NaN     2.00  Санкт-Петербург   \n",
       "14706      False         False         24.00     3.00  Санкт-Петербург   \n",
       "19540      False         False        112.00      NaN  Санкт-Петербург   \n",
       "\n",
       "       airports_nearest  city_centers_nearest  parks_around_3km  \\\n",
       "12971         25_108.00              3_956.00              1.00   \n",
       "14706         21_912.00              2_389.00              1.00   \n",
       "19540         30_706.00              7_877.00              0.00   \n",
       "\n",
       "       parks_nearest  ponds_around_3km  ponds_nearest  days_exposition  \n",
       "12971         530.00              3.00         756.00            33.00  \n",
       "14706         545.00              1.00         478.00           393.00  \n",
       "19540            NaN              2.00         318.00           106.00  "
      ]
     },
     "execution_count": 93,
     "metadata": {},
     "output_type": "execute_result"
    }
   ],
   "source": [
    "df[df[\"last_price\"] > 400_000_000]"
   ]
  },
  {
   "cell_type": "markdown",
   "metadata": {},
   "source": [
    "Есть одна строка с неадекватным значением цены - 12_190 тысяч. Такие цены бувают только на аренду квартир, а у нас продажа, это выброс. От одного значения можно смело избавиться."
   ]
  },
  {
   "cell_type": "markdown",
   "metadata": {},
   "source": [
    "### Rooms"
   ]
  },
  {
   "cell_type": "code",
   "execution_count": 94,
   "metadata": {},
   "outputs": [
    {
     "data": {
      "text/plain": [
       "rooms\n",
       "0      197\n",
       "1     8047\n",
       "2     7940\n",
       "3     5814\n",
       "4     1180\n",
       "5      326\n",
       "6      105\n",
       "7       59\n",
       "8       12\n",
       "9        8\n",
       "10       3\n",
       "11       2\n",
       "12       1\n",
       "14       2\n",
       "15       1\n",
       "16       1\n",
       "19       1\n",
       "Name: count, dtype: int64"
      ]
     },
     "execution_count": 94,
     "metadata": {},
     "output_type": "execute_result"
    }
   ],
   "source": [
    "df[\"rooms\"].value_counts().sort_index()"
   ]
  },
  {
   "cell_type": "markdown",
   "metadata": {},
   "source": [
    "в **rooms** есть 197 нулевых значений, скорее всего это квартиры-студии. Оставляем как есть."
   ]
  },
  {
   "cell_type": "markdown",
   "metadata": {},
   "source": [
    "### Ceiling_height"
   ]
  },
  {
   "cell_type": "code",
   "execution_count": 96,
   "metadata": {},
   "outputs": [
    {
     "data": {
      "image/png": "[encoded data removed]",
      "text/plain": [
       "<Figure size 640x480 with 1 Axes>"
      ]
     },
     "metadata": {},
     "output_type": "display_data"
    }
   ],
   "source": [
    "df[\"ceiling_height\"].plot(kind=\"box\", grid=True).set_ylim(0, 6);"
   ]
  },
  {
   "cell_type": "code",
   "execution_count": 97,
   "metadata": {},
   "outputs": [
    {
     "data": {
      "text/plain": [
       "ceiling_height\n",
       "100.00     1\n",
       "32.00      2\n",
       "27.50      1\n",
       "27.00      8\n",
       "26.00      1\n",
       "          ..\n",
       "2.20       1\n",
       "2.00      11\n",
       "1.75       1\n",
       "1.20       1\n",
       "1.00       1\n",
       "Name: count, Length: 183, dtype: int64"
      ]
     },
     "execution_count": 97,
     "metadata": {},
     "output_type": "execute_result"
    }
   ],
   "source": [
    "df[\"ceiling_height\"].value_counts().sort_index(ascending=False)"
   ]
  },
  {
   "cell_type": "code",
   "execution_count": 98,
   "metadata": {},
   "outputs": [
    {
     "data": {
      "text/plain": [
       "89"
      ]
     },
     "execution_count": 98,
     "metadata": {},
     "output_type": "execute_result"
    }
   ],
   "source": [
    "df.query(\"ceiling_height < 2.1 | ceiling_height > 4\")[\"ceiling_height\"].count()"
   ]
  },
  {
   "cell_type": "markdown",
   "metadata": {},
   "source": [
    "В **ceiling_height** есть всего 89 значений которые или меньше 2.1 метра или выше 4. Вероятно тут ошибка заполнения или выгрузки. В среднем потолки идут от 2.2 метра до 3.2, в редких случаях чуть ниже или чуть выше этого показателя. Просто заменим медианой."
   ]
  },
  {
   "cell_type": "markdown",
   "metadata": {},
   "source": [
    "### Days_exposition"
   ]
  },
  {
   "cell_type": "code",
   "execution_count": 99,
   "metadata": {},
   "outputs": [
    {
     "data": {
      "text/plain": [
       "<Axes: >"
      ]
     },
     "execution_count": 99,
     "metadata": {},
     "output_type": "execute_result"
    },
    {
     "data": {
      "image/png": "[encoded data removed]",
      "text/plain": [
       "<Figure size 640x480 with 1 Axes>"
      ]
     },
     "metadata": {},
     "output_type": "display_data"
    }
   ],
   "source": [
    "df[\"days_exposition\"].plot(kind=\"box\", grid=True)"
   ]
  },
  {
   "cell_type": "code",
   "execution_count": 100,
   "metadata": {},
   "outputs": [
    {
     "data": {
      "image/png": "[encoded data removed]",
      "text/plain": [
       "<Figure size 640x480 with 1 Axes>"
      ]
     },
     "metadata": {},
     "output_type": "display_data"
    }
   ],
   "source": [
    "df[\"days_exposition\"].plot(kind=\"hist\", grid=True, bins=100);"
   ]
  },
  {
   "cell_type": "markdown",
   "metadata": {},
   "source": [
    "В основном обявления висели в приложении от 1 до 500 дней (около полутора лет). Есть и выбросы, где обявления висели больше 1000 дней. Возможно клиенты забывали закрывать обьявления после того как продали квартиру. Это не самый важный показатель, удалять выбросы нельзя, вместе с ними удалятся важные параметры, будем игнорировать его, делая срезы."
   ]
  },
  {
   "cell_type": "markdown",
   "metadata": {},
   "source": [
    "## Поиск пропусков"
   ]
  },
  {
   "cell_type": "markdown",
   "metadata": {},
   "source": [
    "Количество пропусков по столбцам."
   ]
  },
  {
   "cell_type": "code",
   "execution_count": 102,
   "metadata": {},
   "outputs": [
    {
     "data": {
      "text/plain": [
       "total_images                0\n",
       "is_open_plan                0\n",
       "floor                       0\n",
       "rooms                       0\n",
       "is_studio                   0\n",
       "total_area                  0\n",
       "last_price                  0\n",
       "first_day_exposition        0\n",
       "locality_name              49\n",
       "floors_total               86\n",
       "living_area              1903\n",
       "kitchen_area             2278\n",
       "days_exposition          3181\n",
       "ponds_around_3km         5518\n",
       "parks_around_3km         5518\n",
       "city_centers_nearest     5519\n",
       "airports_nearest         5542\n",
       "ceiling_height           9195\n",
       "balcony                 11519\n",
       "ponds_nearest           14589\n",
       "parks_nearest           15620\n",
       "is_apartment            20924\n",
       "dtype: int64"
      ]
     },
     "execution_count": 102,
     "metadata": {},
     "output_type": "execute_result"
    }
   ],
   "source": [
    "df.isna().sum().sort_values()"
   ]
  },
  {
   "cell_type": "markdown",
   "metadata": {},
   "source": [
    "**locality_name**: 49 отсутствующих значений, без названия населёного пункта это объявление не имеет смысла, узнать эту информацию у нас нету возможности, удалим эти пропуски.  \n",
    "**floors_total**: пустые значения вероятно следствие неохоты заполнять этот пункт, или незнание сколько всего этажей (возможно продажа квартиры в которой никогда не были), не трогаем этот параметр.  \n",
    "**living_area** и **kitchen_area**: тут скорее всего жильцы просто не знают значения этих площадей или не знают как их посчитать или не хотят, оставляем как есть, посчитать и заменить всё равно не возможно.  \n",
    "**ceiling_height**: тоже что и с площадью жилого пространства и кухни, заменим медианой, потому что потолки имеют стандарт.  \n",
    "Много отсутствующих значений по балконам, если они не заполнены скорее всего их нет, заменим на 0.  \n",
    "Очень много отсутствующих значений со всем что связанно с парками, прудами и расстоянием от центра. Наверное причина в том что пользователи просто не знают этих данных и не хотят узнавать. Не самые важные значения, оставляем как есть.  \n",
    "Самое большое число пропусков в графе с апартаментами, опять же, пользователи скорее всего просто не знают что такое апартаменты и как их определять. Заполнить пропуски не можем, иначе исказим исследования, потому что у нас приложение яндекс.недвижимость значит тут не только жилые помещения, но и апартаменты, оставляем как есть."
   ]
  },
  {
   "cell_type": "markdown",
   "metadata": {},
   "source": [
    "Процент пропусков по столбцам."
   ]
  },
  {
   "cell_type": "code",
   "execution_count": 103,
   "metadata": {},
   "outputs": [
    {
     "data": {
      "text/plain": [
       "total_images           0.00\n",
       "is_open_plan           0.00\n",
       "floor                  0.00\n",
       "rooms                  0.00\n",
       "is_studio              0.00\n",
       "total_area             0.00\n",
       "last_price             0.00\n",
       "first_day_exposition   0.00\n",
       "locality_name          0.00\n",
       "floors_total           0.00\n",
       "living_area            0.08\n",
       "kitchen_area           0.10\n",
       "days_exposition        0.13\n",
       "ponds_around_3km       0.23\n",
       "parks_around_3km       0.23\n",
       "city_centers_nearest   0.23\n",
       "airports_nearest       0.23\n",
       "ceiling_height         0.39\n",
       "balcony                0.49\n",
       "ponds_nearest          0.62\n",
       "parks_nearest          0.66\n",
       "is_apartment           0.88\n",
       "dtype: float64"
      ]
     },
     "execution_count": 103,
     "metadata": {},
     "output_type": "execute_result"
    }
   ],
   "source": [
    "df.isna().sum().sort_values() / len(df)"
   ]
  },
  {
   "cell_type": "markdown",
   "metadata": {},
   "source": [
    "## Что нужно исправить:"
   ]
  },
  {
   "cell_type": "markdown",
   "metadata": {},
   "source": [
    "| <span style=\"color:orange\">1. Странные значения</span> | <span style=\"color:orange\">2. Пропуски</span> | <span style=\"color:orange\">3. Замена типов данных</span> | <span style=\"color:orange\">4. Удаление дубликатов</span> | <span style=\"color:orange\">5. Категоризация и добавление столбцов</span> |\n",
    "| - | - | - | - | - |\n",
    "| Исправить названия столбцов | **locality_name**: удалить пропуски. | **first_day_exposition**: заменить тип данных на datetime64 || Создать столбцы с днём, месяцем и годом публикации объявления |\n",
    "| **locality_name**: привести к нижнему регистру и избавиться от буквы \"ё\" в словах | **ceiling_height**: заменить пропуски медианой | **balcony**: поменять на Int64 || Этаж квартиры. Варианты - первый, последний, другой |\n",
    "| **last_price**: удалить значение 12_190 | **balcony**: заменить на 0 |\n",
    "| **ceiling_height**: заменить выбросы медианой |"
   ]
  },
  {
   "cell_type": "markdown",
   "metadata": {},
   "source": [
    "## Заметки о том что можно написать в рекомендациях"
   ]
  },
  {
   "cell_type": "markdown",
   "metadata": {},
   "source": [
    "- В 49 строках нет названий населёных пунктов. Такие обьявление не нужны пользователям. Строже следить за заполнением этого пункта."
   ]
  },
  {
   "cell_type": "markdown",
   "metadata": {},
   "source": [
    "# Предобработка данных."
   ]
  },
  {
   "cell_type": "markdown",
   "metadata": {},
   "source": [
    "## 1. Странные значения."
   ]
  },
  {
   "cell_type": "markdown",
   "metadata": {},
   "source": [
    "### **locality_name**: привести к нижнему регистру и избавиться от буквы \"ё\" в словах"
   ]
  },
  {
   "cell_type": "code",
   "execution_count": 104,
   "metadata": {},
   "outputs": [],
   "source": [
    "df[\"locality_name\"] = df[\"locality_name\"].str.lower()"
   ]
  },
  {
   "cell_type": "code",
   "execution_count": 105,
   "metadata": {},
   "outputs": [],
   "source": [
    "df[\"locality_name\"] = df[\"locality_name\"].str.replace(\"ё\", \"е\")"
   ]
  },
  {
   "cell_type": "code",
   "execution_count": 106,
   "metadata": {},
   "outputs": [
    {
     "data": {
      "text/plain": [
       "0            санкт-петербург\n",
       "1             поселок шушары\n",
       "2            санкт-петербург\n",
       "3            санкт-петербург\n",
       "4            санкт-петербург\n",
       "                ...         \n",
       "23694        санкт-петербург\n",
       "23695                  тосно\n",
       "23696       село рождествено\n",
       "23697        санкт-петербург\n",
       "23698    поселок новый учхоз\n",
       "Name: locality_name, Length: 23699, dtype: object"
      ]
     },
     "execution_count": 106,
     "metadata": {},
     "output_type": "execute_result"
    }
   ],
   "source": [
    "df[\"locality_name\"]"
   ]
  },
  {
   "cell_type": "markdown",
   "metadata": {},
   "source": [
    "### **last_price**: удалить значение 12_190"
   ]
  },
  {
   "cell_type": "code",
   "execution_count": 107,
   "metadata": {},
   "outputs": [],
   "source": [
    "df = df[df[\"last_price\"] > 12_190]"
   ]
  },
  {
   "cell_type": "code",
   "execution_count": 108,
   "metadata": {},
   "outputs": [
    {
     "data": {
      "text/plain": [
       "0"
      ]
     },
     "execution_count": 108,
     "metadata": {},
     "output_type": "execute_result"
    }
   ],
   "source": [
    "df[df[\"last_price\"] < 12_190].shape[0]"
   ]
  },
  {
   "cell_type": "markdown",
   "metadata": {},
   "source": [
    "### **ceiling_height**: заменить выбросы медианой"
   ]
  },
  {
   "cell_type": "code",
   "execution_count": 109,
   "metadata": {},
   "outputs": [],
   "source": [
    "df.loc[(df[\"ceiling_height\"] < 2.1) | (df[\"ceiling_height\"] > 4), \"ceiling_height\"] = df[\"ceiling_height\"].median()"
   ]
  },
  {
   "cell_type": "code",
   "execution_count": 110,
   "metadata": {},
   "outputs": [
    {
     "data": {
      "text/plain": [
       "count   14_503.00\n",
       "mean         2.72\n",
       "std          0.26\n",
       "min          2.20\n",
       "25%          2.52\n",
       "50%          2.65\n",
       "75%          2.80\n",
       "max          4.00\n",
       "Name: ceiling_height, dtype: float64"
      ]
     },
     "execution_count": 110,
     "metadata": {},
     "output_type": "execute_result"
    }
   ],
   "source": [
    "df[\"ceiling_height\"].describe()"
   ]
  },
  {
   "cell_type": "markdown",
   "metadata": {},
   "source": [
    "## 2. Пропуски."
   ]
  },
  {
   "cell_type": "markdown",
   "metadata": {},
   "source": [
    "### **locality_name**: удалить пропуски."
   ]
  },
  {
   "cell_type": "code",
   "execution_count": 111,
   "metadata": {},
   "outputs": [],
   "source": [
    "df = df.dropna(subset=\"locality_name\")"
   ]
  },
  {
   "cell_type": "code",
   "execution_count": 112,
   "metadata": {},
   "outputs": [
    {
     "data": {
      "text/plain": [
       "0"
      ]
     },
     "execution_count": 112,
     "metadata": {},
     "output_type": "execute_result"
    }
   ],
   "source": [
    "df[\"locality_name\"].isna().sum()"
   ]
  },
  {
   "cell_type": "markdown",
   "metadata": {},
   "source": [
    "### **ceiling_height**: заменить пропуски медианой"
   ]
  },
  {
   "cell_type": "code",
   "execution_count": 113,
   "metadata": {},
   "outputs": [],
   "source": [
    "df.loc[df[\"ceiling_height\"].isna(), \"ceiling_height\"] = df[\"ceiling_height\"].median()"
   ]
  },
  {
   "cell_type": "code",
   "execution_count": 114,
   "metadata": {},
   "outputs": [
    {
     "data": {
      "text/plain": [
       "0"
      ]
     },
     "execution_count": 114,
     "metadata": {},
     "output_type": "execute_result"
    }
   ],
   "source": [
    "df[\"ceiling_height\"].isna().sum()"
   ]
  },
  {
   "cell_type": "markdown",
   "metadata": {},
   "source": [
    "### **balcony**: заменить на 0"
   ]
  },
  {
   "cell_type": "code",
   "execution_count": 115,
   "metadata": {},
   "outputs": [],
   "source": [
    "df.loc[df[\"balcony\"].isna(), \"balcony\"] = 0"
   ]
  },
  {
   "cell_type": "code",
   "execution_count": 116,
   "metadata": {},
   "outputs": [
    {
     "data": {
      "text/plain": [
       "0"
      ]
     },
     "execution_count": 116,
     "metadata": {},
     "output_type": "execute_result"
    }
   ],
   "source": [
    "df[\"balcony\"].isna().sum()"
   ]
  },
  {
   "cell_type": "markdown",
   "metadata": {},
   "source": [
    "## 3. Замена типов данных."
   ]
  },
  {
   "cell_type": "markdown",
   "metadata": {},
   "source": [
    "### **first_day_exposition**: заменить тип данных на datetime64"
   ]
  },
  {
   "cell_type": "code",
   "execution_count": 117,
   "metadata": {},
   "outputs": [
    {
     "data": {
      "text/plain": [
       "0        2019-03-07T00:00:00\n",
       "1        2018-12-04T00:00:00\n",
       "2        2015-08-20T00:00:00\n",
       "3        2015-07-24T00:00:00\n",
       "4        2018-06-19T00:00:00\n",
       "                ...         \n",
       "23694    2017-03-21T00:00:00\n",
       "23695    2018-01-15T00:00:00\n",
       "23696    2018-02-11T00:00:00\n",
       "23697    2017-03-28T00:00:00\n",
       "23698    2017-07-21T00:00:00\n",
       "Name: first_day_exposition, Length: 23649, dtype: object"
      ]
     },
     "execution_count": 117,
     "metadata": {},
     "output_type": "execute_result"
    }
   ],
   "source": [
    "df[\"first_day_exposition\"]"
   ]
  },
  {
   "cell_type": "code",
   "execution_count": 118,
   "metadata": {},
   "outputs": [],
   "source": [
    "df[\"first_day_exposition\"] = pd.to_datetime(df[\"first_day_exposition\"], format=\"%Y-%m-%dT%H:%M:%S\")"
   ]
  },
  {
   "cell_type": "code",
   "execution_count": 119,
   "metadata": {},
   "outputs": [
    {
     "name": "stdout",
     "output_type": "stream",
     "text": [
      "<class 'pandas.core.series.Series'>\n",
      "Index: 23649 entries, 0 to 23698\n",
      "Series name: first_day_exposition\n",
      "Non-Null Count  Dtype         \n",
      "--------------  -----         \n",
      "23649 non-null  datetime64[ns]\n",
      "dtypes: datetime64[ns](1)\n",
      "memory usage: 369.5 KB\n"
     ]
    }
   ],
   "source": [
    "df[\"first_day_exposition\"].info()"
   ]
  },
  {
   "cell_type": "markdown",
   "metadata": {},
   "source": [
    "### **balcony**: поменять на Int64"
   ]
  },
  {
   "cell_type": "code",
   "execution_count": 120,
   "metadata": {},
   "outputs": [],
   "source": [
    "df[\"balcony\"] = df[\"balcony\"].astype(\"int64\", errors=\"ignore\")"
   ]
  },
  {
   "cell_type": "code",
   "execution_count": 121,
   "metadata": {},
   "outputs": [
    {
     "name": "stdout",
     "output_type": "stream",
     "text": [
      "<class 'pandas.core.series.Series'>\n",
      "Index: 23649 entries, 0 to 23698\n",
      "Series name: balcony\n",
      "Non-Null Count  Dtype\n",
      "--------------  -----\n",
      "23649 non-null  int64\n",
      "dtypes: int64(1)\n",
      "memory usage: 369.5 KB\n"
     ]
    }
   ],
   "source": [
    "df[\"balcony\"].info()"
   ]
  },
  {
   "cell_type": "markdown",
   "metadata": {},
   "source": [
    "## 4. Удаление дубликатов."
   ]
  },
  {
   "cell_type": "code",
   "execution_count": 122,
   "metadata": {},
   "outputs": [
    {
     "data": {
      "text/plain": [
       "0"
      ]
     },
     "execution_count": 122,
     "metadata": {},
     "output_type": "execute_result"
    }
   ],
   "source": [
    "df.duplicated().sum()"
   ]
  },
  {
   "cell_type": "markdown",
   "metadata": {},
   "source": [
    "В таблице нет дубликатов."
   ]
  },
  {
   "cell_type": "markdown",
   "metadata": {},
   "source": [
    "## 5. Категоризация и добавление столбцов."
   ]
  },
  {
   "cell_type": "markdown",
   "metadata": {},
   "source": [
    "Цена квадратного метра"
   ]
  },
  {
   "cell_type": "code",
   "execution_count": 123,
   "metadata": {},
   "outputs": [],
   "source": [
    "df[\"price_per_m2\"] = df[\"last_price\"] / df[\"total_area\"]"
   ]
  },
  {
   "cell_type": "code",
   "execution_count": 124,
   "metadata": {},
   "outputs": [
    {
     "data": {
      "text/html": [
       "<div>\n",
       "<style scoped>\n",
       "    .dataframe tbody tr th:only-of-type {\n",
       "        vertical-align: middle;\n",
       "    }\n",
       "\n",
       "    .dataframe tbody tr th {\n",
       "        vertical-align: top;\n",
       "    }\n",
       "\n",
       "    .dataframe thead th {\n",
       "        text-align: right;\n",
       "    }\n",
       "</style>\n",
       "<table border=\"1\" class=\"dataframe\">\n",
       "  <thead>\n",
       "    <tr style=\"text-align: right;\">\n",
       "      <th></th>\n",
       "      <th>last_price</th>\n",
       "      <th>total_area</th>\n",
       "      <th>price_per_m2</th>\n",
       "    </tr>\n",
       "  </thead>\n",
       "  <tbody>\n",
       "    <tr>\n",
       "      <th>0</th>\n",
       "      <td>13_000_000.00</td>\n",
       "      <td>108.00</td>\n",
       "      <td>120_370.37</td>\n",
       "    </tr>\n",
       "    <tr>\n",
       "      <th>1</th>\n",
       "      <td>3_350_000.00</td>\n",
       "      <td>40.40</td>\n",
       "      <td>82_920.79</td>\n",
       "    </tr>\n",
       "    <tr>\n",
       "      <th>2</th>\n",
       "      <td>5_196_000.00</td>\n",
       "      <td>56.00</td>\n",
       "      <td>92_785.71</td>\n",
       "    </tr>\n",
       "    <tr>\n",
       "      <th>3</th>\n",
       "      <td>64_900_000.00</td>\n",
       "      <td>159.00</td>\n",
       "      <td>408_176.10</td>\n",
       "    </tr>\n",
       "    <tr>\n",
       "      <th>4</th>\n",
       "      <td>10_000_000.00</td>\n",
       "      <td>100.00</td>\n",
       "      <td>100_000.00</td>\n",
       "    </tr>\n",
       "    <tr>\n",
       "      <th>...</th>\n",
       "      <td>...</td>\n",
       "      <td>...</td>\n",
       "      <td>...</td>\n",
       "    </tr>\n",
       "    <tr>\n",
       "      <th>23694</th>\n",
       "      <td>9_700_000.00</td>\n",
       "      <td>133.81</td>\n",
       "      <td>72_490.85</td>\n",
       "    </tr>\n",
       "    <tr>\n",
       "      <th>23695</th>\n",
       "      <td>3_100_000.00</td>\n",
       "      <td>59.00</td>\n",
       "      <td>52_542.37</td>\n",
       "    </tr>\n",
       "    <tr>\n",
       "      <th>23696</th>\n",
       "      <td>2_500_000.00</td>\n",
       "      <td>56.70</td>\n",
       "      <td>44_091.71</td>\n",
       "    </tr>\n",
       "    <tr>\n",
       "      <th>23697</th>\n",
       "      <td>11_475_000.00</td>\n",
       "      <td>76.75</td>\n",
       "      <td>149_511.40</td>\n",
       "    </tr>\n",
       "    <tr>\n",
       "      <th>23698</th>\n",
       "      <td>1_350_000.00</td>\n",
       "      <td>32.30</td>\n",
       "      <td>41_795.67</td>\n",
       "    </tr>\n",
       "  </tbody>\n",
       "</table>\n",
       "<p>23649 rows × 3 columns</p>\n",
       "</div>"
      ],
      "text/plain": [
       "         last_price  total_area  price_per_m2\n",
       "0     13_000_000.00      108.00    120_370.37\n",
       "1      3_350_000.00       40.40     82_920.79\n",
       "2      5_196_000.00       56.00     92_785.71\n",
       "3     64_900_000.00      159.00    408_176.10\n",
       "4     10_000_000.00      100.00    100_000.00\n",
       "...             ...         ...           ...\n",
       "23694  9_700_000.00      133.81     72_490.85\n",
       "23695  3_100_000.00       59.00     52_542.37\n",
       "23696  2_500_000.00       56.70     44_091.71\n",
       "23697 11_475_000.00       76.75    149_511.40\n",
       "23698  1_350_000.00       32.30     41_795.67\n",
       "\n",
       "[23649 rows x 3 columns]"
      ]
     },
     "execution_count": 124,
     "metadata": {},
     "output_type": "execute_result"
    }
   ],
   "source": [
    "df[[\"last_price\", \"total_area\", \"price_per_m2\"]]"
   ]
  },
  {
   "cell_type": "markdown",
   "metadata": {},
   "source": [
    "День недели, месяц, год публикации."
   ]
  },
  {
   "cell_type": "code",
   "execution_count": 125,
   "metadata": {},
   "outputs": [],
   "source": [
    "df[\"exposition_day\"] = df[\"first_day_exposition\"].dt.day\n",
    "df[\"exposition_month\"] = df[\"first_day_exposition\"].dt.month\n",
    "df[\"exposition_year\"] = df[\"first_day_exposition\"].dt.year"
   ]
  },
  {
   "cell_type": "code",
   "execution_count": 126,
   "metadata": {},
   "outputs": [
    {
     "data": {
      "text/html": [
       "<div>\n",
       "<style scoped>\n",
       "    .dataframe tbody tr th:only-of-type {\n",
       "        vertical-align: middle;\n",
       "    }\n",
       "\n",
       "    .dataframe tbody tr th {\n",
       "        vertical-align: top;\n",
       "    }\n",
       "\n",
       "    .dataframe thead th {\n",
       "        text-align: right;\n",
       "    }\n",
       "</style>\n",
       "<table border=\"1\" class=\"dataframe\">\n",
       "  <thead>\n",
       "    <tr style=\"text-align: right;\">\n",
       "      <th></th>\n",
       "      <th>first_day_exposition</th>\n",
       "      <th>exposition_day</th>\n",
       "      <th>exposition_month</th>\n",
       "      <th>exposition_year</th>\n",
       "    </tr>\n",
       "  </thead>\n",
       "  <tbody>\n",
       "    <tr>\n",
       "      <th>0</th>\n",
       "      <td>2019-03-07</td>\n",
       "      <td>7</td>\n",
       "      <td>3</td>\n",
       "      <td>2019</td>\n",
       "    </tr>\n",
       "    <tr>\n",
       "      <th>1</th>\n",
       "      <td>2018-12-04</td>\n",
       "      <td>4</td>\n",
       "      <td>12</td>\n",
       "      <td>2018</td>\n",
       "    </tr>\n",
       "    <tr>\n",
       "      <th>2</th>\n",
       "      <td>2015-08-20</td>\n",
       "      <td>20</td>\n",
       "      <td>8</td>\n",
       "      <td>2015</td>\n",
       "    </tr>\n",
       "    <tr>\n",
       "      <th>3</th>\n",
       "      <td>2015-07-24</td>\n",
       "      <td>24</td>\n",
       "      <td>7</td>\n",
       "      <td>2015</td>\n",
       "    </tr>\n",
       "    <tr>\n",
       "      <th>4</th>\n",
       "      <td>2018-06-19</td>\n",
       "      <td>19</td>\n",
       "      <td>6</td>\n",
       "      <td>2018</td>\n",
       "    </tr>\n",
       "    <tr>\n",
       "      <th>...</th>\n",
       "      <td>...</td>\n",
       "      <td>...</td>\n",
       "      <td>...</td>\n",
       "      <td>...</td>\n",
       "    </tr>\n",
       "    <tr>\n",
       "      <th>23694</th>\n",
       "      <td>2017-03-21</td>\n",
       "      <td>21</td>\n",
       "      <td>3</td>\n",
       "      <td>2017</td>\n",
       "    </tr>\n",
       "    <tr>\n",
       "      <th>23695</th>\n",
       "      <td>2018-01-15</td>\n",
       "      <td>15</td>\n",
       "      <td>1</td>\n",
       "      <td>2018</td>\n",
       "    </tr>\n",
       "    <tr>\n",
       "      <th>23696</th>\n",
       "      <td>2018-02-11</td>\n",
       "      <td>11</td>\n",
       "      <td>2</td>\n",
       "      <td>2018</td>\n",
       "    </tr>\n",
       "    <tr>\n",
       "      <th>23697</th>\n",
       "      <td>2017-03-28</td>\n",
       "      <td>28</td>\n",
       "      <td>3</td>\n",
       "      <td>2017</td>\n",
       "    </tr>\n",
       "    <tr>\n",
       "      <th>23698</th>\n",
       "      <td>2017-07-21</td>\n",
       "      <td>21</td>\n",
       "      <td>7</td>\n",
       "      <td>2017</td>\n",
       "    </tr>\n",
       "  </tbody>\n",
       "</table>\n",
       "<p>23649 rows × 4 columns</p>\n",
       "</div>"
      ],
      "text/plain": [
       "      first_day_exposition  exposition_day  exposition_month  exposition_year\n",
       "0               2019-03-07               7                 3             2019\n",
       "1               2018-12-04               4                12             2018\n",
       "2               2015-08-20              20                 8             2015\n",
       "3               2015-07-24              24                 7             2015\n",
       "4               2018-06-19              19                 6             2018\n",
       "...                    ...             ...               ...              ...\n",
       "23694           2017-03-21              21                 3             2017\n",
       "23695           2018-01-15              15                 1             2018\n",
       "23696           2018-02-11              11                 2             2018\n",
       "23697           2017-03-28              28                 3             2017\n",
       "23698           2017-07-21              21                 7             2017\n",
       "\n",
       "[23649 rows x 4 columns]"
      ]
     },
     "execution_count": 126,
     "metadata": {},
     "output_type": "execute_result"
    }
   ],
   "source": [
    "df[[\"first_day_exposition\", \"exposition_day\", \"exposition_month\", \"exposition_year\"]]"
   ]
  },
  {
   "cell_type": "markdown",
   "metadata": {},
   "source": [
    "Этаж квартиры; варианты — первый, последний, другой."
   ]
  },
  {
   "cell_type": "markdown",
   "metadata": {},
   "source": [
    "Функция для категоризации по этажам."
   ]
  },
  {
   "cell_type": "code",
   "execution_count": 127,
   "metadata": {},
   "outputs": [],
   "source": [
    "def floor_cat(row):\n",
    "    if row[\"floor\"] == 1:\n",
    "        return \"первый\"\n",
    "    elif row[\"floor\"] == row[\"floors_total\"]:\n",
    "        return \"последний\"\n",
    "    else:\n",
    "        return \"другой\""
   ]
  },
  {
   "cell_type": "code",
   "execution_count": 128,
   "metadata": {},
   "outputs": [],
   "source": [
    "df[\"floor_cat\"] = df[[\"floors_total\", \"floor\"]].apply(floor_cat, axis=1)"
   ]
  },
  {
   "cell_type": "code",
   "execution_count": 129,
   "metadata": {},
   "outputs": [
    {
     "data": {
      "text/html": [
       "<div>\n",
       "<style scoped>\n",
       "    .dataframe tbody tr th:only-of-type {\n",
       "        vertical-align: middle;\n",
       "    }\n",
       "\n",
       "    .dataframe tbody tr th {\n",
       "        vertical-align: top;\n",
       "    }\n",
       "\n",
       "    .dataframe thead th {\n",
       "        text-align: right;\n",
       "    }\n",
       "</style>\n",
       "<table border=\"1\" class=\"dataframe\">\n",
       "  <thead>\n",
       "    <tr style=\"text-align: right;\">\n",
       "      <th></th>\n",
       "      <th>floors_total</th>\n",
       "      <th>floor</th>\n",
       "      <th>floor_cat</th>\n",
       "    </tr>\n",
       "  </thead>\n",
       "  <tbody>\n",
       "    <tr>\n",
       "      <th>0</th>\n",
       "      <td>16.00</td>\n",
       "      <td>8</td>\n",
       "      <td>другой</td>\n",
       "    </tr>\n",
       "    <tr>\n",
       "      <th>1</th>\n",
       "      <td>11.00</td>\n",
       "      <td>1</td>\n",
       "      <td>первый</td>\n",
       "    </tr>\n",
       "    <tr>\n",
       "      <th>2</th>\n",
       "      <td>5.00</td>\n",
       "      <td>4</td>\n",
       "      <td>другой</td>\n",
       "    </tr>\n",
       "    <tr>\n",
       "      <th>3</th>\n",
       "      <td>14.00</td>\n",
       "      <td>9</td>\n",
       "      <td>другой</td>\n",
       "    </tr>\n",
       "    <tr>\n",
       "      <th>4</th>\n",
       "      <td>14.00</td>\n",
       "      <td>13</td>\n",
       "      <td>другой</td>\n",
       "    </tr>\n",
       "    <tr>\n",
       "      <th>...</th>\n",
       "      <td>...</td>\n",
       "      <td>...</td>\n",
       "      <td>...</td>\n",
       "    </tr>\n",
       "    <tr>\n",
       "      <th>23694</th>\n",
       "      <td>5.00</td>\n",
       "      <td>3</td>\n",
       "      <td>другой</td>\n",
       "    </tr>\n",
       "    <tr>\n",
       "      <th>23695</th>\n",
       "      <td>5.00</td>\n",
       "      <td>4</td>\n",
       "      <td>другой</td>\n",
       "    </tr>\n",
       "    <tr>\n",
       "      <th>23696</th>\n",
       "      <td>3.00</td>\n",
       "      <td>1</td>\n",
       "      <td>первый</td>\n",
       "    </tr>\n",
       "    <tr>\n",
       "      <th>23697</th>\n",
       "      <td>17.00</td>\n",
       "      <td>12</td>\n",
       "      <td>другой</td>\n",
       "    </tr>\n",
       "    <tr>\n",
       "      <th>23698</th>\n",
       "      <td>5.00</td>\n",
       "      <td>1</td>\n",
       "      <td>первый</td>\n",
       "    </tr>\n",
       "  </tbody>\n",
       "</table>\n",
       "<p>23649 rows × 3 columns</p>\n",
       "</div>"
      ],
      "text/plain": [
       "       floors_total  floor floor_cat\n",
       "0             16.00      8    другой\n",
       "1             11.00      1    первый\n",
       "2              5.00      4    другой\n",
       "3             14.00      9    другой\n",
       "4             14.00     13    другой\n",
       "...             ...    ...       ...\n",
       "23694          5.00      3    другой\n",
       "23695          5.00      4    другой\n",
       "23696          3.00      1    первый\n",
       "23697         17.00     12    другой\n",
       "23698          5.00      1    первый\n",
       "\n",
       "[23649 rows x 3 columns]"
      ]
     },
     "execution_count": 129,
     "metadata": {},
     "output_type": "execute_result"
    }
   ],
   "source": [
    "df[[\"floors_total\", \"floor\", \"floor_cat\"]]"
   ]
  },
  {
   "cell_type": "markdown",
   "metadata": {},
   "source": [
    "Соотношение жилой и общей площади, а также отношение площади кухни к общей."
   ]
  },
  {
   "cell_type": "code",
   "execution_count": 130,
   "metadata": {},
   "outputs": [
    {
     "data": {
      "text/html": [
       "<div>\n",
       "<style scoped>\n",
       "    .dataframe tbody tr th:only-of-type {\n",
       "        vertical-align: middle;\n",
       "    }\n",
       "\n",
       "    .dataframe tbody tr th {\n",
       "        vertical-align: top;\n",
       "    }\n",
       "\n",
       "    .dataframe thead th {\n",
       "        text-align: right;\n",
       "    }\n",
       "</style>\n",
       "<table border=\"1\" class=\"dataframe\">\n",
       "  <thead>\n",
       "    <tr style=\"text-align: right;\">\n",
       "      <th></th>\n",
       "      <th>total_images</th>\n",
       "      <th>last_price</th>\n",
       "      <th>total_area</th>\n",
       "      <th>first_day_exposition</th>\n",
       "      <th>rooms</th>\n",
       "      <th>ceiling_height</th>\n",
       "      <th>floors_total</th>\n",
       "      <th>living_area</th>\n",
       "      <th>floor</th>\n",
       "      <th>is_apartment</th>\n",
       "      <th>is_studio</th>\n",
       "      <th>is_open_plan</th>\n",
       "      <th>kitchen_area</th>\n",
       "      <th>balcony</th>\n",
       "      <th>locality_name</th>\n",
       "      <th>airports_nearest</th>\n",
       "      <th>city_centers_nearest</th>\n",
       "      <th>parks_around_3km</th>\n",
       "      <th>parks_nearest</th>\n",
       "      <th>ponds_around_3km</th>\n",
       "      <th>ponds_nearest</th>\n",
       "      <th>days_exposition</th>\n",
       "      <th>price_per_m2</th>\n",
       "      <th>exposition_day</th>\n",
       "      <th>exposition_month</th>\n",
       "      <th>exposition_year</th>\n",
       "      <th>floor_cat</th>\n",
       "    </tr>\n",
       "  </thead>\n",
       "  <tbody>\n",
       "    <tr>\n",
       "      <th>0</th>\n",
       "      <td>20</td>\n",
       "      <td>13_000_000.00</td>\n",
       "      <td>108.00</td>\n",
       "      <td>2019-03-07</td>\n",
       "      <td>3</td>\n",
       "      <td>2.70</td>\n",
       "      <td>16.00</td>\n",
       "      <td>51.00</td>\n",
       "      <td>8</td>\n",
       "      <td>NaN</td>\n",
       "      <td>False</td>\n",
       "      <td>False</td>\n",
       "      <td>25.00</td>\n",
       "      <td>0</td>\n",
       "      <td>санкт-петербург</td>\n",
       "      <td>18_863.00</td>\n",
       "      <td>16_028.00</td>\n",
       "      <td>1.00</td>\n",
       "      <td>482.00</td>\n",
       "      <td>2.00</td>\n",
       "      <td>755.00</td>\n",
       "      <td>NaN</td>\n",
       "      <td>120_370.37</td>\n",
       "      <td>7</td>\n",
       "      <td>3</td>\n",
       "      <td>2019</td>\n",
       "      <td>другой</td>\n",
       "    </tr>\n",
       "    <tr>\n",
       "      <th>1</th>\n",
       "      <td>7</td>\n",
       "      <td>3_350_000.00</td>\n",
       "      <td>40.40</td>\n",
       "      <td>2018-12-04</td>\n",
       "      <td>1</td>\n",
       "      <td>2.65</td>\n",
       "      <td>11.00</td>\n",
       "      <td>18.60</td>\n",
       "      <td>1</td>\n",
       "      <td>NaN</td>\n",
       "      <td>False</td>\n",
       "      <td>False</td>\n",
       "      <td>11.00</td>\n",
       "      <td>2</td>\n",
       "      <td>поселок шушары</td>\n",
       "      <td>12_817.00</td>\n",
       "      <td>18_603.00</td>\n",
       "      <td>0.00</td>\n",
       "      <td>NaN</td>\n",
       "      <td>0.00</td>\n",
       "      <td>NaN</td>\n",
       "      <td>81.00</td>\n",
       "      <td>82_920.79</td>\n",
       "      <td>4</td>\n",
       "      <td>12</td>\n",
       "      <td>2018</td>\n",
       "      <td>первый</td>\n",
       "    </tr>\n",
       "    <tr>\n",
       "      <th>2</th>\n",
       "      <td>10</td>\n",
       "      <td>5_196_000.00</td>\n",
       "      <td>56.00</td>\n",
       "      <td>2015-08-20</td>\n",
       "      <td>2</td>\n",
       "      <td>2.65</td>\n",
       "      <td>5.00</td>\n",
       "      <td>34.30</td>\n",
       "      <td>4</td>\n",
       "      <td>NaN</td>\n",
       "      <td>False</td>\n",
       "      <td>False</td>\n",
       "      <td>8.30</td>\n",
       "      <td>0</td>\n",
       "      <td>санкт-петербург</td>\n",
       "      <td>21_741.00</td>\n",
       "      <td>13_933.00</td>\n",
       "      <td>1.00</td>\n",
       "      <td>90.00</td>\n",
       "      <td>2.00</td>\n",
       "      <td>574.00</td>\n",
       "      <td>558.00</td>\n",
       "      <td>92_785.71</td>\n",
       "      <td>20</td>\n",
       "      <td>8</td>\n",
       "      <td>2015</td>\n",
       "      <td>другой</td>\n",
       "    </tr>\n",
       "    <tr>\n",
       "      <th>3</th>\n",
       "      <td>0</td>\n",
       "      <td>64_900_000.00</td>\n",
       "      <td>159.00</td>\n",
       "      <td>2015-07-24</td>\n",
       "      <td>3</td>\n",
       "      <td>2.65</td>\n",
       "      <td>14.00</td>\n",
       "      <td>NaN</td>\n",
       "      <td>9</td>\n",
       "      <td>NaN</td>\n",
       "      <td>False</td>\n",
       "      <td>False</td>\n",
       "      <td>NaN</td>\n",
       "      <td>0</td>\n",
       "      <td>санкт-петербург</td>\n",
       "      <td>28_098.00</td>\n",
       "      <td>6_800.00</td>\n",
       "      <td>2.00</td>\n",
       "      <td>84.00</td>\n",
       "      <td>3.00</td>\n",
       "      <td>234.00</td>\n",
       "      <td>424.00</td>\n",
       "      <td>408_176.10</td>\n",
       "      <td>24</td>\n",
       "      <td>7</td>\n",
       "      <td>2015</td>\n",
       "      <td>другой</td>\n",
       "    </tr>\n",
       "    <tr>\n",
       "      <th>4</th>\n",
       "      <td>2</td>\n",
       "      <td>10_000_000.00</td>\n",
       "      <td>100.00</td>\n",
       "      <td>2018-06-19</td>\n",
       "      <td>2</td>\n",
       "      <td>3.03</td>\n",
       "      <td>14.00</td>\n",
       "      <td>32.00</td>\n",
       "      <td>13</td>\n",
       "      <td>NaN</td>\n",
       "      <td>False</td>\n",
       "      <td>False</td>\n",
       "      <td>41.00</td>\n",
       "      <td>0</td>\n",
       "      <td>санкт-петербург</td>\n",
       "      <td>31_856.00</td>\n",
       "      <td>8_098.00</td>\n",
       "      <td>2.00</td>\n",
       "      <td>112.00</td>\n",
       "      <td>1.00</td>\n",
       "      <td>48.00</td>\n",
       "      <td>121.00</td>\n",
       "      <td>100_000.00</td>\n",
       "      <td>19</td>\n",
       "      <td>6</td>\n",
       "      <td>2018</td>\n",
       "      <td>другой</td>\n",
       "    </tr>\n",
       "  </tbody>\n",
       "</table>\n",
       "</div>"
      ],
      "text/plain": [
       "   total_images    last_price  total_area first_day_exposition  rooms  \\\n",
       "0            20 13_000_000.00      108.00           2019-03-07      3   \n",
       "1             7  3_350_000.00       40.40           2018-12-04      1   \n",
       "2            10  5_196_000.00       56.00           2015-08-20      2   \n",
       "3             0 64_900_000.00      159.00           2015-07-24      3   \n",
       "4             2 10_000_000.00      100.00           2018-06-19      2   \n",
       "\n",
       "   ceiling_height  floors_total  living_area  floor is_apartment  is_studio  \\\n",
       "0            2.70         16.00        51.00      8          NaN      False   \n",
       "1            2.65         11.00        18.60      1          NaN      False   \n",
       "2            2.65          5.00        34.30      4          NaN      False   \n",
       "3            2.65         14.00          NaN      9          NaN      False   \n",
       "4            3.03         14.00        32.00     13          NaN      False   \n",
       "\n",
       "   is_open_plan  kitchen_area  balcony    locality_name  airports_nearest  \\\n",
       "0         False         25.00        0  санкт-петербург         18_863.00   \n",
       "1         False         11.00        2   поселок шушары         12_817.00   \n",
       "2         False          8.30        0  санкт-петербург         21_741.00   \n",
       "3         False           NaN        0  санкт-петербург         28_098.00   \n",
       "4         False         41.00        0  санкт-петербург         31_856.00   \n",
       "\n",
       "   city_centers_nearest  parks_around_3km  parks_nearest  ponds_around_3km  \\\n",
       "0             16_028.00              1.00         482.00              2.00   \n",
       "1             18_603.00              0.00            NaN              0.00   \n",
       "2             13_933.00              1.00          90.00              2.00   \n",
       "3              6_800.00              2.00          84.00              3.00   \n",
       "4              8_098.00              2.00         112.00              1.00   \n",
       "\n",
       "   ponds_nearest  days_exposition  price_per_m2  exposition_day  \\\n",
       "0         755.00              NaN    120_370.37               7   \n",
       "1            NaN            81.00     82_920.79               4   \n",
       "2         574.00           558.00     92_785.71              20   \n",
       "3         234.00           424.00    408_176.10              24   \n",
       "4          48.00           121.00    100_000.00              19   \n",
       "\n",
       "   exposition_month  exposition_year floor_cat  \n",
       "0                 3             2019    другой  \n",
       "1                12             2018    первый  \n",
       "2                 8             2015    другой  \n",
       "3                 7             2015    другой  \n",
       "4                 6             2018    другой  "
      ]
     },
     "execution_count": 130,
     "metadata": {},
     "output_type": "execute_result"
    }
   ],
   "source": [
    "df.head()"
   ]
  },
  {
   "cell_type": "code",
   "execution_count": 131,
   "metadata": {},
   "outputs": [],
   "source": [
    "df[\"liv_tot_ratio\"] = df[\"living_area\"] / df[\"total_area\"]\n",
    "df[\"kit_tot_ratio\"] = df[\"kitchen_area\"] / df[\"total_area\"]"
   ]
  },
  {
   "cell_type": "code",
   "execution_count": 132,
   "metadata": {},
   "outputs": [
    {
     "data": {
      "text/html": [
       "<div>\n",
       "<style scoped>\n",
       "    .dataframe tbody tr th:only-of-type {\n",
       "        vertical-align: middle;\n",
       "    }\n",
       "\n",
       "    .dataframe tbody tr th {\n",
       "        vertical-align: top;\n",
       "    }\n",
       "\n",
       "    .dataframe thead th {\n",
       "        text-align: right;\n",
       "    }\n",
       "</style>\n",
       "<table border=\"1\" class=\"dataframe\">\n",
       "  <thead>\n",
       "    <tr style=\"text-align: right;\">\n",
       "      <th></th>\n",
       "      <th>total_area</th>\n",
       "      <th>living_area</th>\n",
       "      <th>kitchen_area</th>\n",
       "      <th>liv_tot_ratio</th>\n",
       "      <th>kit_tot_ratio</th>\n",
       "    </tr>\n",
       "  </thead>\n",
       "  <tbody>\n",
       "    <tr>\n",
       "      <th>0</th>\n",
       "      <td>108.00</td>\n",
       "      <td>51.00</td>\n",
       "      <td>25.00</td>\n",
       "      <td>0.47</td>\n",
       "      <td>0.23</td>\n",
       "    </tr>\n",
       "    <tr>\n",
       "      <th>1</th>\n",
       "      <td>40.40</td>\n",
       "      <td>18.60</td>\n",
       "      <td>11.00</td>\n",
       "      <td>0.46</td>\n",
       "      <td>0.27</td>\n",
       "    </tr>\n",
       "    <tr>\n",
       "      <th>2</th>\n",
       "      <td>56.00</td>\n",
       "      <td>34.30</td>\n",
       "      <td>8.30</td>\n",
       "      <td>0.61</td>\n",
       "      <td>0.15</td>\n",
       "    </tr>\n",
       "    <tr>\n",
       "      <th>3</th>\n",
       "      <td>159.00</td>\n",
       "      <td>NaN</td>\n",
       "      <td>NaN</td>\n",
       "      <td>NaN</td>\n",
       "      <td>NaN</td>\n",
       "    </tr>\n",
       "    <tr>\n",
       "      <th>4</th>\n",
       "      <td>100.00</td>\n",
       "      <td>32.00</td>\n",
       "      <td>41.00</td>\n",
       "      <td>0.32</td>\n",
       "      <td>0.41</td>\n",
       "    </tr>\n",
       "    <tr>\n",
       "      <th>...</th>\n",
       "      <td>...</td>\n",
       "      <td>...</td>\n",
       "      <td>...</td>\n",
       "      <td>...</td>\n",
       "      <td>...</td>\n",
       "    </tr>\n",
       "    <tr>\n",
       "      <th>23694</th>\n",
       "      <td>133.81</td>\n",
       "      <td>73.30</td>\n",
       "      <td>13.83</td>\n",
       "      <td>0.55</td>\n",
       "      <td>0.10</td>\n",
       "    </tr>\n",
       "    <tr>\n",
       "      <th>23695</th>\n",
       "      <td>59.00</td>\n",
       "      <td>38.00</td>\n",
       "      <td>8.50</td>\n",
       "      <td>0.64</td>\n",
       "      <td>0.14</td>\n",
       "    </tr>\n",
       "    <tr>\n",
       "      <th>23696</th>\n",
       "      <td>56.70</td>\n",
       "      <td>29.70</td>\n",
       "      <td>NaN</td>\n",
       "      <td>0.52</td>\n",
       "      <td>NaN</td>\n",
       "    </tr>\n",
       "    <tr>\n",
       "      <th>23697</th>\n",
       "      <td>76.75</td>\n",
       "      <td>NaN</td>\n",
       "      <td>23.30</td>\n",
       "      <td>NaN</td>\n",
       "      <td>0.30</td>\n",
       "    </tr>\n",
       "    <tr>\n",
       "      <th>23698</th>\n",
       "      <td>32.30</td>\n",
       "      <td>12.30</td>\n",
       "      <td>9.00</td>\n",
       "      <td>0.38</td>\n",
       "      <td>0.28</td>\n",
       "    </tr>\n",
       "  </tbody>\n",
       "</table>\n",
       "<p>23649 rows × 5 columns</p>\n",
       "</div>"
      ],
      "text/plain": [
       "       total_area  living_area  kitchen_area  liv_tot_ratio  kit_tot_ratio\n",
       "0          108.00        51.00         25.00           0.47           0.23\n",
       "1           40.40        18.60         11.00           0.46           0.27\n",
       "2           56.00        34.30          8.30           0.61           0.15\n",
       "3          159.00          NaN           NaN            NaN            NaN\n",
       "4          100.00        32.00         41.00           0.32           0.41\n",
       "...           ...          ...           ...            ...            ...\n",
       "23694      133.81        73.30         13.83           0.55           0.10\n",
       "23695       59.00        38.00          8.50           0.64           0.14\n",
       "23696       56.70        29.70           NaN           0.52            NaN\n",
       "23697       76.75          NaN         23.30            NaN           0.30\n",
       "23698       32.30        12.30          9.00           0.38           0.28\n",
       "\n",
       "[23649 rows x 5 columns]"
      ]
     },
     "execution_count": 132,
     "metadata": {},
     "output_type": "execute_result"
    }
   ],
   "source": [
    "df[[\"total_area\", \"living_area\", \"kitchen_area\", \"liv_tot_ratio\", \"kit_tot_ratio\"]]"
   ]
  },
  {
   "cell_type": "markdown",
   "metadata": {},
   "source": [
    "### Общая проверка перед исследовательским анализом данных."
   ]
  },
  {
   "cell_type": "code",
   "execution_count": 133,
   "metadata": {},
   "outputs": [
    {
     "data": {
      "text/html": [
       "<div>\n",
       "<style scoped>\n",
       "    .dataframe tbody tr th:only-of-type {\n",
       "        vertical-align: middle;\n",
       "    }\n",
       "\n",
       "    .dataframe tbody tr th {\n",
       "        vertical-align: top;\n",
       "    }\n",
       "\n",
       "    .dataframe thead th {\n",
       "        text-align: right;\n",
       "    }\n",
       "</style>\n",
       "<table border=\"1\" class=\"dataframe\">\n",
       "  <thead>\n",
       "    <tr style=\"text-align: right;\">\n",
       "      <th></th>\n",
       "      <th>total_images</th>\n",
       "      <th>last_price</th>\n",
       "      <th>total_area</th>\n",
       "      <th>first_day_exposition</th>\n",
       "      <th>rooms</th>\n",
       "      <th>ceiling_height</th>\n",
       "      <th>floors_total</th>\n",
       "      <th>living_area</th>\n",
       "      <th>floor</th>\n",
       "      <th>is_apartment</th>\n",
       "      <th>is_studio</th>\n",
       "      <th>is_open_plan</th>\n",
       "      <th>kitchen_area</th>\n",
       "      <th>balcony</th>\n",
       "      <th>locality_name</th>\n",
       "      <th>airports_nearest</th>\n",
       "      <th>city_centers_nearest</th>\n",
       "      <th>parks_around_3km</th>\n",
       "      <th>parks_nearest</th>\n",
       "      <th>ponds_around_3km</th>\n",
       "      <th>ponds_nearest</th>\n",
       "      <th>days_exposition</th>\n",
       "      <th>price_per_m2</th>\n",
       "      <th>exposition_day</th>\n",
       "      <th>exposition_month</th>\n",
       "      <th>exposition_year</th>\n",
       "      <th>floor_cat</th>\n",
       "      <th>liv_tot_ratio</th>\n",
       "      <th>kit_tot_ratio</th>\n",
       "    </tr>\n",
       "  </thead>\n",
       "  <tbody>\n",
       "    <tr>\n",
       "      <th>0</th>\n",
       "      <td>20</td>\n",
       "      <td>13_000_000.00</td>\n",
       "      <td>108.00</td>\n",
       "      <td>2019-03-07</td>\n",
       "      <td>3</td>\n",
       "      <td>2.70</td>\n",
       "      <td>16.00</td>\n",
       "      <td>51.00</td>\n",
       "      <td>8</td>\n",
       "      <td>NaN</td>\n",
       "      <td>False</td>\n",
       "      <td>False</td>\n",
       "      <td>25.00</td>\n",
       "      <td>0</td>\n",
       "      <td>санкт-петербург</td>\n",
       "      <td>18_863.00</td>\n",
       "      <td>16_028.00</td>\n",
       "      <td>1.00</td>\n",
       "      <td>482.00</td>\n",
       "      <td>2.00</td>\n",
       "      <td>755.00</td>\n",
       "      <td>NaN</td>\n",
       "      <td>120_370.37</td>\n",
       "      <td>7</td>\n",
       "      <td>3</td>\n",
       "      <td>2019</td>\n",
       "      <td>другой</td>\n",
       "      <td>0.47</td>\n",
       "      <td>0.23</td>\n",
       "    </tr>\n",
       "    <tr>\n",
       "      <th>1</th>\n",
       "      <td>7</td>\n",
       "      <td>3_350_000.00</td>\n",
       "      <td>40.40</td>\n",
       "      <td>2018-12-04</td>\n",
       "      <td>1</td>\n",
       "      <td>2.65</td>\n",
       "      <td>11.00</td>\n",
       "      <td>18.60</td>\n",
       "      <td>1</td>\n",
       "      <td>NaN</td>\n",
       "      <td>False</td>\n",
       "      <td>False</td>\n",
       "      <td>11.00</td>\n",
       "      <td>2</td>\n",
       "      <td>поселок шушары</td>\n",
       "      <td>12_817.00</td>\n",
       "      <td>18_603.00</td>\n",
       "      <td>0.00</td>\n",
       "      <td>NaN</td>\n",
       "      <td>0.00</td>\n",
       "      <td>NaN</td>\n",
       "      <td>81.00</td>\n",
       "      <td>82_920.79</td>\n",
       "      <td>4</td>\n",
       "      <td>12</td>\n",
       "      <td>2018</td>\n",
       "      <td>первый</td>\n",
       "      <td>0.46</td>\n",
       "      <td>0.27</td>\n",
       "    </tr>\n",
       "    <tr>\n",
       "      <th>2</th>\n",
       "      <td>10</td>\n",
       "      <td>5_196_000.00</td>\n",
       "      <td>56.00</td>\n",
       "      <td>2015-08-20</td>\n",
       "      <td>2</td>\n",
       "      <td>2.65</td>\n",
       "      <td>5.00</td>\n",
       "      <td>34.30</td>\n",
       "      <td>4</td>\n",
       "      <td>NaN</td>\n",
       "      <td>False</td>\n",
       "      <td>False</td>\n",
       "      <td>8.30</td>\n",
       "      <td>0</td>\n",
       "      <td>санкт-петербург</td>\n",
       "      <td>21_741.00</td>\n",
       "      <td>13_933.00</td>\n",
       "      <td>1.00</td>\n",
       "      <td>90.00</td>\n",
       "      <td>2.00</td>\n",
       "      <td>574.00</td>\n",
       "      <td>558.00</td>\n",
       "      <td>92_785.71</td>\n",
       "      <td>20</td>\n",
       "      <td>8</td>\n",
       "      <td>2015</td>\n",
       "      <td>другой</td>\n",
       "      <td>0.61</td>\n",
       "      <td>0.15</td>\n",
       "    </tr>\n",
       "    <tr>\n",
       "      <th>3</th>\n",
       "      <td>0</td>\n",
       "      <td>64_900_000.00</td>\n",
       "      <td>159.00</td>\n",
       "      <td>2015-07-24</td>\n",
       "      <td>3</td>\n",
       "      <td>2.65</td>\n",
       "      <td>14.00</td>\n",
       "      <td>NaN</td>\n",
       "      <td>9</td>\n",
       "      <td>NaN</td>\n",
       "      <td>False</td>\n",
       "      <td>False</td>\n",
       "      <td>NaN</td>\n",
       "      <td>0</td>\n",
       "      <td>санкт-петербург</td>\n",
       "      <td>28_098.00</td>\n",
       "      <td>6_800.00</td>\n",
       "      <td>2.00</td>\n",
       "      <td>84.00</td>\n",
       "      <td>3.00</td>\n",
       "      <td>234.00</td>\n",
       "      <td>424.00</td>\n",
       "      <td>408_176.10</td>\n",
       "      <td>24</td>\n",
       "      <td>7</td>\n",
       "      <td>2015</td>\n",
       "      <td>другой</td>\n",
       "      <td>NaN</td>\n",
       "      <td>NaN</td>\n",
       "    </tr>\n",
       "    <tr>\n",
       "      <th>4</th>\n",
       "      <td>2</td>\n",
       "      <td>10_000_000.00</td>\n",
       "      <td>100.00</td>\n",
       "      <td>2018-06-19</td>\n",
       "      <td>2</td>\n",
       "      <td>3.03</td>\n",
       "      <td>14.00</td>\n",
       "      <td>32.00</td>\n",
       "      <td>13</td>\n",
       "      <td>NaN</td>\n",
       "      <td>False</td>\n",
       "      <td>False</td>\n",
       "      <td>41.00</td>\n",
       "      <td>0</td>\n",
       "      <td>санкт-петербург</td>\n",
       "      <td>31_856.00</td>\n",
       "      <td>8_098.00</td>\n",
       "      <td>2.00</td>\n",
       "      <td>112.00</td>\n",
       "      <td>1.00</td>\n",
       "      <td>48.00</td>\n",
       "      <td>121.00</td>\n",
       "      <td>100_000.00</td>\n",
       "      <td>19</td>\n",
       "      <td>6</td>\n",
       "      <td>2018</td>\n",
       "      <td>другой</td>\n",
       "      <td>0.32</td>\n",
       "      <td>0.41</td>\n",
       "    </tr>\n",
       "  </tbody>\n",
       "</table>\n",
       "</div>"
      ],
      "text/plain": [
       "   total_images    last_price  total_area first_day_exposition  rooms  \\\n",
       "0            20 13_000_000.00      108.00           2019-03-07      3   \n",
       "1             7  3_350_000.00       40.40           2018-12-04      1   \n",
       "2            10  5_196_000.00       56.00           2015-08-20      2   \n",
       "3             0 64_900_000.00      159.00           2015-07-24      3   \n",
       "4             2 10_000_000.00      100.00           2018-06-19      2   \n",
       "\n",
       "   ceiling_height  floors_total  living_area  floor is_apartment  is_studio  \\\n",
       "0            2.70         16.00        51.00      8          NaN      False   \n",
       "1            2.65         11.00        18.60      1          NaN      False   \n",
       "2            2.65          5.00        34.30      4          NaN      False   \n",
       "3            2.65         14.00          NaN      9          NaN      False   \n",
       "4            3.03         14.00        32.00     13          NaN      False   \n",
       "\n",
       "   is_open_plan  kitchen_area  balcony    locality_name  airports_nearest  \\\n",
       "0         False         25.00        0  санкт-петербург         18_863.00   \n",
       "1         False         11.00        2   поселок шушары         12_817.00   \n",
       "2         False          8.30        0  санкт-петербург         21_741.00   \n",
       "3         False           NaN        0  санкт-петербург         28_098.00   \n",
       "4         False         41.00        0  санкт-петербург         31_856.00   \n",
       "\n",
       "   city_centers_nearest  parks_around_3km  parks_nearest  ponds_around_3km  \\\n",
       "0             16_028.00              1.00         482.00              2.00   \n",
       "1             18_603.00              0.00            NaN              0.00   \n",
       "2             13_933.00              1.00          90.00              2.00   \n",
       "3              6_800.00              2.00          84.00              3.00   \n",
       "4              8_098.00              2.00         112.00              1.00   \n",
       "\n",
       "   ponds_nearest  days_exposition  price_per_m2  exposition_day  \\\n",
       "0         755.00              NaN    120_370.37               7   \n",
       "1            NaN            81.00     82_920.79               4   \n",
       "2         574.00           558.00     92_785.71              20   \n",
       "3         234.00           424.00    408_176.10              24   \n",
       "4          48.00           121.00    100_000.00              19   \n",
       "\n",
       "   exposition_month  exposition_year floor_cat  liv_tot_ratio  kit_tot_ratio  \n",
       "0                 3             2019    другой           0.47           0.23  \n",
       "1                12             2018    первый           0.46           0.27  \n",
       "2                 8             2015    другой           0.61           0.15  \n",
       "3                 7             2015    другой            NaN            NaN  \n",
       "4                 6             2018    другой           0.32           0.41  "
      ]
     },
     "execution_count": 133,
     "metadata": {},
     "output_type": "execute_result"
    }
   ],
   "source": [
    "df.head()"
   ]
  },
  {
   "cell_type": "code",
   "execution_count": 134,
   "metadata": {},
   "outputs": [
    {
     "name": "stdout",
     "output_type": "stream",
     "text": [
      "<class 'pandas.core.frame.DataFrame'>\n",
      "Index: 23649 entries, 0 to 23698\n",
      "Data columns (total 29 columns):\n",
      " #   Column                Non-Null Count  Dtype         \n",
      "---  ------                --------------  -----         \n",
      " 0   total_images          23649 non-null  int64         \n",
      " 1   last_price            23649 non-null  float64       \n",
      " 2   total_area            23649 non-null  float64       \n",
      " 3   first_day_exposition  23649 non-null  datetime64[ns]\n",
      " 4   rooms                 23649 non-null  int64         \n",
      " 5   ceiling_height        23649 non-null  float64       \n",
      " 6   floors_total          23564 non-null  float64       \n",
      " 7   living_area           21751 non-null  float64       \n",
      " 8   floor                 23649 non-null  int64         \n",
      " 9   is_apartment          2760 non-null   object        \n",
      " 10  is_studio             23649 non-null  bool          \n",
      " 11  is_open_plan          23649 non-null  bool          \n",
      " 12  kitchen_area          21380 non-null  float64       \n",
      " 13  balcony               23649 non-null  int64         \n",
      " 14  locality_name         23649 non-null  object        \n",
      " 15  airports_nearest      18115 non-null  float64       \n",
      " 16  city_centers_nearest  18138 non-null  float64       \n",
      " 17  parks_around_3km      18139 non-null  float64       \n",
      " 18  parks_nearest         8063 non-null   float64       \n",
      " 19  ponds_around_3km      18139 non-null  float64       \n",
      " 20  ponds_nearest         9085 non-null   float64       \n",
      " 21  days_exposition       20469 non-null  float64       \n",
      " 22  price_per_m2          23649 non-null  float64       \n",
      " 23  exposition_day        23649 non-null  int32         \n",
      " 24  exposition_month      23649 non-null  int32         \n",
      " 25  exposition_year       23649 non-null  int32         \n",
      " 26  floor_cat             23649 non-null  object        \n",
      " 27  liv_tot_ratio         21751 non-null  float64       \n",
      " 28  kit_tot_ratio         21380 non-null  float64       \n",
      "dtypes: bool(2), datetime64[ns](1), float64(16), int32(3), int64(4), object(3)\n",
      "memory usage: 4.8+ MB\n"
     ]
    }
   ],
   "source": [
    "df.info()"
   ]
  },
  {
   "cell_type": "code",
   "execution_count": 135,
   "metadata": {},
   "outputs": [
    {
     "data": {
      "text/html": [
       "<div>\n",
       "<style scoped>\n",
       "    .dataframe tbody tr th:only-of-type {\n",
       "        vertical-align: middle;\n",
       "    }\n",
       "\n",
       "    .dataframe tbody tr th {\n",
       "        vertical-align: top;\n",
       "    }\n",
       "\n",
       "    .dataframe thead th {\n",
       "        text-align: right;\n",
       "    }\n",
       "</style>\n",
       "<table border=\"1\" class=\"dataframe\">\n",
       "  <thead>\n",
       "    <tr style=\"text-align: right;\">\n",
       "      <th></th>\n",
       "      <th>total_images</th>\n",
       "      <th>last_price</th>\n",
       "      <th>total_area</th>\n",
       "      <th>first_day_exposition</th>\n",
       "      <th>rooms</th>\n",
       "      <th>ceiling_height</th>\n",
       "      <th>floors_total</th>\n",
       "      <th>living_area</th>\n",
       "      <th>floor</th>\n",
       "      <th>kitchen_area</th>\n",
       "      <th>balcony</th>\n",
       "      <th>airports_nearest</th>\n",
       "      <th>city_centers_nearest</th>\n",
       "      <th>parks_around_3km</th>\n",
       "      <th>parks_nearest</th>\n",
       "      <th>ponds_around_3km</th>\n",
       "      <th>ponds_nearest</th>\n",
       "      <th>days_exposition</th>\n",
       "      <th>price_per_m2</th>\n",
       "      <th>exposition_day</th>\n",
       "      <th>exposition_month</th>\n",
       "      <th>exposition_year</th>\n",
       "      <th>liv_tot_ratio</th>\n",
       "      <th>kit_tot_ratio</th>\n",
       "    </tr>\n",
       "  </thead>\n",
       "  <tbody>\n",
       "    <tr>\n",
       "      <th>count</th>\n",
       "      <td>23_649.00</td>\n",
       "      <td>23_649.00</td>\n",
       "      <td>23_649.00</td>\n",
       "      <td>23649</td>\n",
       "      <td>23_649.00</td>\n",
       "      <td>23_649.00</td>\n",
       "      <td>23_564.00</td>\n",
       "      <td>21_751.00</td>\n",
       "      <td>23_649.00</td>\n",
       "      <td>21_380.00</td>\n",
       "      <td>23_649.00</td>\n",
       "      <td>18_115.00</td>\n",
       "      <td>18_138.00</td>\n",
       "      <td>18_139.00</td>\n",
       "      <td>8_063.00</td>\n",
       "      <td>18_139.00</td>\n",
       "      <td>9_085.00</td>\n",
       "      <td>20_469.00</td>\n",
       "      <td>23_649.00</td>\n",
       "      <td>23_649.00</td>\n",
       "      <td>23_649.00</td>\n",
       "      <td>23_649.00</td>\n",
       "      <td>21_751.00</td>\n",
       "      <td>21_380.00</td>\n",
       "    </tr>\n",
       "    <tr>\n",
       "      <th>mean</th>\n",
       "      <td>9.86</td>\n",
       "      <td>6_541_402.97</td>\n",
       "      <td>60.33</td>\n",
       "      <td>2017-11-09 23:33:49.024483072</td>\n",
       "      <td>2.07</td>\n",
       "      <td>2.69</td>\n",
       "      <td>10.68</td>\n",
       "      <td>34.45</td>\n",
       "      <td>5.89</td>\n",
       "      <td>10.57</td>\n",
       "      <td>0.59</td>\n",
       "      <td>28_802.81</td>\n",
       "      <td>14_198.14</td>\n",
       "      <td>0.61</td>\n",
       "      <td>490.79</td>\n",
       "      <td>0.77</td>\n",
       "      <td>518.06</td>\n",
       "      <td>180.76</td>\n",
       "      <td>99_436.45</td>\n",
       "      <td>15.48</td>\n",
       "      <td>6.40</td>\n",
       "      <td>2_017.37</td>\n",
       "      <td>0.56</td>\n",
       "      <td>0.19</td>\n",
       "    </tr>\n",
       "    <tr>\n",
       "      <th>min</th>\n",
       "      <td>0.00</td>\n",
       "      <td>430_000.00</td>\n",
       "      <td>12.00</td>\n",
       "      <td>2014-11-27 00:00:00</td>\n",
       "      <td>0.00</td>\n",
       "      <td>2.20</td>\n",
       "      <td>1.00</td>\n",
       "      <td>2.00</td>\n",
       "      <td>1.00</td>\n",
       "      <td>1.30</td>\n",
       "      <td>0.00</td>\n",
       "      <td>0.00</td>\n",
       "      <td>181.00</td>\n",
       "      <td>0.00</td>\n",
       "      <td>1.00</td>\n",
       "      <td>0.00</td>\n",
       "      <td>13.00</td>\n",
       "      <td>1.00</td>\n",
       "      <td>7_962.96</td>\n",
       "      <td>1.00</td>\n",
       "      <td>1.00</td>\n",
       "      <td>2_014.00</td>\n",
       "      <td>0.02</td>\n",
       "      <td>0.03</td>\n",
       "    </tr>\n",
       "    <tr>\n",
       "      <th>25%</th>\n",
       "      <td>6.00</td>\n",
       "      <td>3_400_000.00</td>\n",
       "      <td>40.00</td>\n",
       "      <td>2017-05-15 00:00:00</td>\n",
       "      <td>1.00</td>\n",
       "      <td>2.60</td>\n",
       "      <td>5.00</td>\n",
       "      <td>18.60</td>\n",
       "      <td>2.00</td>\n",
       "      <td>7.00</td>\n",
       "      <td>0.00</td>\n",
       "      <td>18_575.50</td>\n",
       "      <td>9_241.00</td>\n",
       "      <td>0.00</td>\n",
       "      <td>288.00</td>\n",
       "      <td>0.00</td>\n",
       "      <td>293.00</td>\n",
       "      <td>45.00</td>\n",
       "      <td>76_621.16</td>\n",
       "      <td>8.00</td>\n",
       "      <td>3.00</td>\n",
       "      <td>2_017.00</td>\n",
       "      <td>0.50</td>\n",
       "      <td>0.13</td>\n",
       "    </tr>\n",
       "    <tr>\n",
       "      <th>50%</th>\n",
       "      <td>9.00</td>\n",
       "      <td>4_650_000.00</td>\n",
       "      <td>52.00</td>\n",
       "      <td>2017-12-12 00:00:00</td>\n",
       "      <td>2.00</td>\n",
       "      <td>2.65</td>\n",
       "      <td>9.00</td>\n",
       "      <td>30.00</td>\n",
       "      <td>4.00</td>\n",
       "      <td>9.10</td>\n",
       "      <td>0.00</td>\n",
       "      <td>26_756.00</td>\n",
       "      <td>13_106.00</td>\n",
       "      <td>0.00</td>\n",
       "      <td>454.00</td>\n",
       "      <td>1.00</td>\n",
       "      <td>502.00</td>\n",
       "      <td>95.00</td>\n",
       "      <td>95_000.00</td>\n",
       "      <td>15.00</td>\n",
       "      <td>6.00</td>\n",
       "      <td>2_017.00</td>\n",
       "      <td>0.57</td>\n",
       "      <td>0.17</td>\n",
       "    </tr>\n",
       "    <tr>\n",
       "      <th>75%</th>\n",
       "      <td>14.00</td>\n",
       "      <td>6_799_000.00</td>\n",
       "      <td>69.70</td>\n",
       "      <td>2018-08-27 00:00:00</td>\n",
       "      <td>3.00</td>\n",
       "      <td>2.70</td>\n",
       "      <td>16.00</td>\n",
       "      <td>42.30</td>\n",
       "      <td>8.00</td>\n",
       "      <td>12.00</td>\n",
       "      <td>1.00</td>\n",
       "      <td>37_294.00</td>\n",
       "      <td>16_293.00</td>\n",
       "      <td>1.00</td>\n",
       "      <td>612.00</td>\n",
       "      <td>1.00</td>\n",
       "      <td>730.00</td>\n",
       "      <td>231.00</td>\n",
       "      <td>114_277.11</td>\n",
       "      <td>23.00</td>\n",
       "      <td>10.00</td>\n",
       "      <td>2_018.00</td>\n",
       "      <td>0.64</td>\n",
       "      <td>0.23</td>\n",
       "    </tr>\n",
       "    <tr>\n",
       "      <th>max</th>\n",
       "      <td>50.00</td>\n",
       "      <td>763_000_000.00</td>\n",
       "      <td>900.00</td>\n",
       "      <td>2019-05-03 00:00:00</td>\n",
       "      <td>19.00</td>\n",
       "      <td>4.00</td>\n",
       "      <td>60.00</td>\n",
       "      <td>409.70</td>\n",
       "      <td>33.00</td>\n",
       "      <td>112.00</td>\n",
       "      <td>5.00</td>\n",
       "      <td>84_869.00</td>\n",
       "      <td>65_968.00</td>\n",
       "      <td>3.00</td>\n",
       "      <td>3_190.00</td>\n",
       "      <td>3.00</td>\n",
       "      <td>1_344.00</td>\n",
       "      <td>1_580.00</td>\n",
       "      <td>1_907_500.00</td>\n",
       "      <td>31.00</td>\n",
       "      <td>12.00</td>\n",
       "      <td>2_019.00</td>\n",
       "      <td>1.00</td>\n",
       "      <td>0.79</td>\n",
       "    </tr>\n",
       "    <tr>\n",
       "      <th>std</th>\n",
       "      <td>5.68</td>\n",
       "      <td>10_896_546.84</td>\n",
       "      <td>35.66</td>\n",
       "      <td>NaN</td>\n",
       "      <td>1.08</td>\n",
       "      <td>0.20</td>\n",
       "      <td>6.59</td>\n",
       "      <td>22.04</td>\n",
       "      <td>4.88</td>\n",
       "      <td>5.90</td>\n",
       "      <td>0.96</td>\n",
       "      <td>12_637.54</td>\n",
       "      <td>8_606.99</td>\n",
       "      <td>0.80</td>\n",
       "      <td>342.56</td>\n",
       "      <td>0.94</td>\n",
       "      <td>277.84</td>\n",
       "      <td>219.78</td>\n",
       "      <td>50_334.86</td>\n",
       "      <td>8.64</td>\n",
       "      <td>3.49</td>\n",
       "      <td>1.04</td>\n",
       "      <td>0.11</td>\n",
       "      <td>0.07</td>\n",
       "    </tr>\n",
       "  </tbody>\n",
       "</table>\n",
       "</div>"
      ],
      "text/plain": [
       "       total_images     last_price  total_area           first_day_exposition  \\\n",
       "count     23_649.00      23_649.00   23_649.00                          23649   \n",
       "mean           9.86   6_541_402.97       60.33  2017-11-09 23:33:49.024483072   \n",
       "min            0.00     430_000.00       12.00            2014-11-27 00:00:00   \n",
       "25%            6.00   3_400_000.00       40.00            2017-05-15 00:00:00   \n",
       "50%            9.00   4_650_000.00       52.00            2017-12-12 00:00:00   \n",
       "75%           14.00   6_799_000.00       69.70            2018-08-27 00:00:00   \n",
       "max           50.00 763_000_000.00      900.00            2019-05-03 00:00:00   \n",
       "std            5.68  10_896_546.84       35.66                            NaN   \n",
       "\n",
       "          rooms  ceiling_height  floors_total  living_area     floor  \\\n",
       "count 23_649.00       23_649.00     23_564.00    21_751.00 23_649.00   \n",
       "mean       2.07            2.69         10.68        34.45      5.89   \n",
       "min        0.00            2.20          1.00         2.00      1.00   \n",
       "25%        1.00            2.60          5.00        18.60      2.00   \n",
       "50%        2.00            2.65          9.00        30.00      4.00   \n",
       "75%        3.00            2.70         16.00        42.30      8.00   \n",
       "max       19.00            4.00         60.00       409.70     33.00   \n",
       "std        1.08            0.20          6.59        22.04      4.88   \n",
       "\n",
       "       kitchen_area   balcony  airports_nearest  city_centers_nearest  \\\n",
       "count     21_380.00 23_649.00         18_115.00             18_138.00   \n",
       "mean          10.57      0.59         28_802.81             14_198.14   \n",
       "min            1.30      0.00              0.00                181.00   \n",
       "25%            7.00      0.00         18_575.50              9_241.00   \n",
       "50%            9.10      0.00         26_756.00             13_106.00   \n",
       "75%           12.00      1.00         37_294.00             16_293.00   \n",
       "max          112.00      5.00         84_869.00             65_968.00   \n",
       "std            5.90      0.96         12_637.54              8_606.99   \n",
       "\n",
       "       parks_around_3km  parks_nearest  ponds_around_3km  ponds_nearest  \\\n",
       "count         18_139.00       8_063.00         18_139.00       9_085.00   \n",
       "mean               0.61         490.79              0.77         518.06   \n",
       "min                0.00           1.00              0.00          13.00   \n",
       "25%                0.00         288.00              0.00         293.00   \n",
       "50%                0.00         454.00              1.00         502.00   \n",
       "75%                1.00         612.00              1.00         730.00   \n",
       "max                3.00       3_190.00              3.00       1_344.00   \n",
       "std                0.80         342.56              0.94         277.84   \n",
       "\n",
       "       days_exposition  price_per_m2  exposition_day  exposition_month  \\\n",
       "count        20_469.00     23_649.00       23_649.00         23_649.00   \n",
       "mean            180.76     99_436.45           15.48              6.40   \n",
       "min               1.00      7_962.96            1.00              1.00   \n",
       "25%              45.00     76_621.16            8.00              3.00   \n",
       "50%              95.00     95_000.00           15.00              6.00   \n",
       "75%             231.00    114_277.11           23.00             10.00   \n",
       "max           1_580.00  1_907_500.00           31.00             12.00   \n",
       "std             219.78     50_334.86            8.64              3.49   \n",
       "\n",
       "       exposition_year  liv_tot_ratio  kit_tot_ratio  \n",
       "count        23_649.00      21_751.00      21_380.00  \n",
       "mean          2_017.37           0.56           0.19  \n",
       "min           2_014.00           0.02           0.03  \n",
       "25%           2_017.00           0.50           0.13  \n",
       "50%           2_017.00           0.57           0.17  \n",
       "75%           2_018.00           0.64           0.23  \n",
       "max           2_019.00           1.00           0.79  \n",
       "std               1.04           0.11           0.07  "
      ]
     },
     "execution_count": 135,
     "metadata": {},
     "output_type": "execute_result"
    }
   ],
   "source": [
    "df.describe()"
   ]
  },
  {
   "cell_type": "markdown",
   "metadata": {},
   "source": [
    "# Исследовательский анализ данных (EDA)."
   ]
  },
  {
   "cell_type": "code",
   "execution_count": 4,
   "metadata": {},
   "outputs": [],
   "source": [
    "df = pd.read_csv(\"datasets/clean_real_estate_data.csv\")"
   ]
  },
  {
   "cell_type": "code",
   "execution_count": 5,
   "metadata": {},
   "outputs": [],
   "source": [
    "df[\"first_day_exposition\"] = pd.to_datetime(df[\"first_day_exposition\"], format=\"%Y-%m-%d\")"
   ]
  },
  {
   "cell_type": "markdown",
   "metadata": {},
   "source": [
    "## Инструкция 1: Изучим следующие параметры: площадь, цена, число комнат, высота потолков."
   ]
  },
  {
   "cell_type": "markdown",
   "metadata": {},
   "source": [
    "### Площадь."
   ]
  },
  {
   "cell_type": "code",
   "execution_count": 6,
   "metadata": {},
   "outputs": [
    {
     "data": {
      "text/plain": [
       "count   23_649.00\n",
       "mean        60.33\n",
       "std         35.66\n",
       "min         12.00\n",
       "25%         40.00\n",
       "50%         52.00\n",
       "75%         69.70\n",
       "max        900.00\n",
       "Name: total_area, dtype: float64"
      ]
     },
     "execution_count": 6,
     "metadata": {},
     "output_type": "execute_result"
    }
   ],
   "source": [
    "df[\"total_area\"].describe()"
   ]
  },
  {
   "cell_type": "markdown",
   "metadata": {},
   "source": [
    "Медианое значение площади 60 метров квадратных, минимальное значение 12 метров квадратных, максимальное 900 метров квадратных."
   ]
  },
  {
   "cell_type": "code",
   "execution_count": 7,
   "metadata": {},
   "outputs": [
    {
     "data": {
      "image/png": "[encoded data removed]",
      "text/plain": [
       "<Figure size 1400x500 with 2 Axes>"
      ]
     },
     "metadata": {},
     "output_type": "display_data"
    }
   ],
   "source": [
    "fig, axs = plt.subplots(1, 2, figsize=(14, 5))\n",
    "\n",
    "df[\"total_area\"].plot(kind=\"hist\", grid=True, bins=100, ax=axs[0], title=\"Все значения\");\n",
    "df[\"total_area\"].plot(kind=\"hist\", grid=True, bins=100, ax=axs[1],  range=(0, 200), title=\"Диапазон до 200\");\n",
    "\n",
    "plt.show()"
   ]
  },
  {
   "cell_type": "markdown",
   "metadata": {},
   "source": [
    "Основная масса значений площади в районе от 25 квадратных метров до 100 квадратных метров. Есть редкие значения до 900 квадртаных метров, наверное это дорогие или элитные квартиры. Очень выделяется пик в 45 метров квадратных."
   ]
  },
  {
   "cell_type": "markdown",
   "metadata": {},
   "source": [
    "### Цена."
   ]
  },
  {
   "cell_type": "code",
   "execution_count": 8,
   "metadata": {},
   "outputs": [
    {
     "data": {
      "text/plain": [
       "count        23_649.00\n",
       "mean      6_541_402.97\n",
       "std      10_896_546.84\n",
       "min         430_000.00\n",
       "25%       3_400_000.00\n",
       "50%       4_650_000.00\n",
       "75%       6_799_000.00\n",
       "max     763_000_000.00\n",
       "Name: last_price, dtype: float64"
      ]
     },
     "execution_count": 8,
     "metadata": {},
     "output_type": "execute_result"
    }
   ],
   "source": [
    "df[\"last_price\"].describe()"
   ]
  },
  {
   "cell_type": "markdown",
   "metadata": {},
   "source": [
    "Медианое значение цены 4 миллиона 650 тысяч, минимальное значение 430 тысяч, максимальное 763 миллиона."
   ]
  },
  {
   "cell_type": "code",
   "execution_count": 9,
   "metadata": {},
   "outputs": [
    {
     "data": {
      "image/png": "[encoded data removed]",
      "text/plain": [
       "<Figure size 1400x500 with 2 Axes>"
      ]
     },
     "metadata": {},
     "output_type": "display_data"
    }
   ],
   "source": [
    "fig, axs = plt.subplots(1, 2, figsize=(14, 5))\n",
    "\n",
    "df[\"last_price\"].plot(kind=\"hist\", grid=True, bins=100, ax=axs[0], title=\"Все значения\");\n",
    "df[\"last_price\"].plot(kind=\"hist\", grid=True, bins=100, ax=axs[1],  range=(-1_000_000, 80_000_000), title=\"Диапазон до 80 миллионов\");\n",
    "\n",
    "plt.show()"
   ]
  },
  {
   "cell_type": "markdown",
   "metadata": {},
   "source": [
    "Основная масса значений цены лежит в районе от 430 тысяч (минимальное значение) до 10 миллионов. Есть плотненький хвост от 10 миллионов до 20 миллионов, значит на такие квартиры тоже есть спрос. Ну и небольшой, редкий хвост правее 20 миллионов, такие квартиры среднестатистический житель врятли себе может позволить."
   ]
  },
  {
   "cell_type": "markdown",
   "metadata": {},
   "source": [
    "### Число комнат."
   ]
  },
  {
   "cell_type": "code",
   "execution_count": 10,
   "metadata": {},
   "outputs": [
    {
     "data": {
      "text/plain": [
       "count   23_649.00\n",
       "mean         2.07\n",
       "std          1.08\n",
       "min          0.00\n",
       "25%          1.00\n",
       "50%          2.00\n",
       "75%          3.00\n",
       "max         19.00\n",
       "Name: rooms, dtype: float64"
      ]
     },
     "execution_count": 10,
     "metadata": {},
     "output_type": "execute_result"
    }
   ],
   "source": [
    "df[\"rooms\"].describe()"
   ]
  },
  {
   "cell_type": "markdown",
   "metadata": {},
   "source": [
    "Медианое значение 2 комнаты, минимальное значение 0 (квартиры студии), максимальное 19 комнат."
   ]
  },
  {
   "cell_type": "code",
   "execution_count": 11,
   "metadata": {},
   "outputs": [
    {
     "data": {
      "image/png": "[encoded data removed]",
      "text/plain": [
       "<Figure size 640x480 with 1 Axes>"
      ]
     },
     "metadata": {},
     "output_type": "display_data"
    }
   ],
   "source": [
    "df[\"rooms\"].plot(kind=\"hist\", xticks=range(int(df[\"rooms\"].min()), int(df[\"rooms\"].max()) + 1), grid=True);"
   ]
  },
  {
   "cell_type": "markdown",
   "metadata": {},
   "source": [
    "В основном у нас 2-х и 3-х комнатные квартиры, что логично, квартиры чаще всего идут с этим количеством комнат."
   ]
  },
  {
   "cell_type": "markdown",
   "metadata": {},
   "source": [
    "### Высота потолков."
   ]
  },
  {
   "cell_type": "code",
   "execution_count": 12,
   "metadata": {},
   "outputs": [
    {
     "data": {
      "text/plain": [
       "count   23_649.00\n",
       "mean         2.69\n",
       "std          0.20\n",
       "min          2.20\n",
       "25%          2.60\n",
       "50%          2.65\n",
       "75%          2.70\n",
       "max          4.00\n",
       "Name: ceiling_height, dtype: float64"
      ]
     },
     "execution_count": 12,
     "metadata": {},
     "output_type": "execute_result"
    }
   ],
   "source": [
    "df[\"ceiling_height\"].describe()"
   ]
  },
  {
   "cell_type": "markdown",
   "metadata": {},
   "source": [
    "Медианое значение 2.65 метра, минимальное значение 2.20 метров, максимальное 4 метра."
   ]
  },
  {
   "cell_type": "code",
   "execution_count": 13,
   "metadata": {},
   "outputs": [
    {
     "data": {
      "image/png": "[encoded data removed]",
      "text/plain": [
       "<Figure size 640x480 with 1 Axes>"
      ]
     },
     "metadata": {},
     "output_type": "display_data"
    }
   ],
   "source": [
    "df[\"ceiling_height\"].plot(kind=\"hist\", grid=True);"
   ]
  },
  {
   "cell_type": "markdown",
   "metadata": {},
   "source": [
    "В основном потолки размером от 2.35 до 2.75 метра, есть небольшой хвост вправо к 4 метрам."
   ]
  },
  {
   "cell_type": "markdown",
   "metadata": {},
   "source": [
    "## Инструкция 2: Изучите время продажи квартиры. Постройте гистограмму. Посчитайте среднее и медиану. Опишите, сколько обычно занимает продажа. Когда можно считать, что продажи прошли очень быстро, а когда необычно долго?"
   ]
  },
  {
   "cell_type": "code",
   "execution_count": 14,
   "metadata": {},
   "outputs": [
    {
     "data": {
      "image/png": "[encoded data removed]",
      "text/plain": [
       "<Figure size 640x480 with 1 Axes>"
      ]
     },
     "metadata": {},
     "output_type": "display_data"
    }
   ],
   "source": [
    "df[\"days_exposition\"].plot(kind=\"box\", grid=True);"
   ]
  },
  {
   "cell_type": "markdown",
   "metadata": {},
   "source": [
    "Найдём значений усов."
   ]
  },
  {
   "cell_type": "code",
   "execution_count": 15,
   "metadata": {},
   "outputs": [
    {
     "name": "stdout",
     "output_type": "stream",
     "text": [
      "Нижний ус: -234.0\n",
      "Верхний ус: 510.0\n"
     ]
    }
   ],
   "source": [
    "whiskers = get_whiskers(df[\"days_exposition\"])\n",
    "print(f\"Нижний ус: {whiskers[0]}\")\n",
    "print(f\"Верхний ус: {whiskers[1]}\")"
   ]
  },
  {
   "cell_type": "code",
   "execution_count": 16,
   "metadata": {},
   "outputs": [
    {
     "data": {
      "image/png": "[encoded data removed]",
      "text/plain": [
       "<Figure size 640x480 with 1 Axes>"
      ]
     },
     "metadata": {},
     "output_type": "display_data"
    }
   ],
   "source": [
    "df[\"days_exposition\"].hist();"
   ]
  },
  {
   "cell_type": "markdown",
   "metadata": {},
   "source": [
    "Графики показывают, что всё что выше 510 дней выбросы. Сделаем срез, чтобы выбросы не искажали результаты."
   ]
  },
  {
   "cell_type": "code",
   "execution_count": 17,
   "metadata": {},
   "outputs": [],
   "source": [
    "no_outliars_days_exp = df.query(\"days_exposition <= 510\")"
   ]
  },
  {
   "cell_type": "code",
   "execution_count": 18,
   "metadata": {},
   "outputs": [
    {
     "data": {
      "text/plain": [
       "min     1.00\n",
       "max   510.00\n",
       "Name: days_exposition, dtype: float64"
      ]
     },
     "execution_count": 18,
     "metadata": {},
     "output_type": "execute_result"
    }
   ],
   "source": [
    "no_outliars_days_exp[\"days_exposition\"].agg([\"min\", \"max\"])"
   ]
  },
  {
   "cell_type": "code",
   "execution_count": 19,
   "metadata": {},
   "outputs": [
    {
     "data": {
      "image/png": "[encoded data removed]",
      "text/plain": [
       "<Figure size 640x480 with 1 Axes>"
      ]
     },
     "metadata": {},
     "output_type": "display_data"
    }
   ],
   "source": [
    "no_outliars_days_exp[\"days_exposition\"].plot(kind=\"hist\", grid=True, bins=100);"
   ]
  },
  {
   "cell_type": "markdown",
   "metadata": {},
   "source": [
    "Два явных пика на 45 и 60 днях. Возможно в приложении стоят настройки в эти дни автоматически закрывать обьявления."
   ]
  },
  {
   "cell_type": "code",
   "execution_count": 20,
   "metadata": {},
   "outputs": [
    {
     "data": {
      "text/plain": [
       "count   18_795.00\n",
       "mean       128.40\n",
       "std        121.15\n",
       "min          1.00\n",
       "25%         41.00\n",
       "50%         85.00\n",
       "75%        182.00\n",
       "max        510.00\n",
       "Name: days_exposition, dtype: float64"
      ]
     },
     "execution_count": 20,
     "metadata": {},
     "output_type": "execute_result"
    }
   ],
   "source": [
    "no_outliars_days_exp[\"days_exposition\"].describe()"
   ]
  },
  {
   "cell_type": "markdown",
   "metadata": {},
   "source": [
    "Среднее арифметическое дней продажи равняется 128 дням, а медиана 85 дням, что говорит о явном хвосте вправо, что мы видели на гистограме. Распределение смещено влево, справа есть большой хвост который будет влиять на среднее, поэтому основой для усреднённого значения берём медиану.\n",
    "\n",
    "Продажа обычно занимает в среднем 85 дней, мы видим это из сводной статистики и гистограммы. Предлагаю считать всё что ниже 25 % перцентиля слишком быстрой продажей, а всё что выше 75 % перцентиля слишком медленной продажей."
   ]
  },
  {
   "cell_type": "markdown",
   "metadata": {},
   "source": [
    "## Инструкция 3:  Какие факторы больше всего влияют на стоимость квартиры? Изучите, зависит ли цена от площади, числа комнат, удалённости от центра. Изучите зависимость цены от того, на каком этаже расположена квартира: первом, последнем или другом. Также изучите зависимость от даты размещения: дня недели, месяца и года."
   ]
  },
  {
   "cell_type": "code",
   "execution_count": 30,
   "metadata": {},
   "outputs": [
    {
     "data": {
      "text/html": [
       "<div>\n",
       "<style scoped>\n",
       "    .dataframe tbody tr th:only-of-type {\n",
       "        vertical-align: middle;\n",
       "    }\n",
       "\n",
       "    .dataframe tbody tr th {\n",
       "        vertical-align: top;\n",
       "    }\n",
       "\n",
       "    .dataframe thead th {\n",
       "        text-align: right;\n",
       "    }\n",
       "</style>\n",
       "<table border=\"1\" class=\"dataframe\">\n",
       "  <thead>\n",
       "    <tr style=\"text-align: right;\">\n",
       "      <th></th>\n",
       "      <th>total_images</th>\n",
       "      <th>last_price</th>\n",
       "      <th>total_area</th>\n",
       "      <th>first_day_exposition</th>\n",
       "      <th>rooms</th>\n",
       "      <th>ceiling_height</th>\n",
       "      <th>floors_total</th>\n",
       "      <th>living_area</th>\n",
       "      <th>floor</th>\n",
       "      <th>is_apartment</th>\n",
       "      <th>is_studio</th>\n",
       "      <th>is_open_plan</th>\n",
       "      <th>kitchen_area</th>\n",
       "      <th>balcony</th>\n",
       "      <th>locality_name</th>\n",
       "      <th>airports_nearest</th>\n",
       "      <th>city_centers_nearest</th>\n",
       "      <th>parks_around_3km</th>\n",
       "      <th>parks_nearest</th>\n",
       "      <th>ponds_around_3km</th>\n",
       "      <th>ponds_nearest</th>\n",
       "      <th>days_exposition</th>\n",
       "      <th>price_per_m2</th>\n",
       "      <th>exposition_day</th>\n",
       "      <th>exposition_month</th>\n",
       "      <th>exposition_year</th>\n",
       "      <th>floor_cat</th>\n",
       "      <th>liv_tot_ratio</th>\n",
       "      <th>kit_tot_ratio</th>\n",
       "    </tr>\n",
       "  </thead>\n",
       "  <tbody>\n",
       "    <tr>\n",
       "      <th>2381</th>\n",
       "      <td>1</td>\n",
       "      <td>4_395_000.00</td>\n",
       "      <td>45.40</td>\n",
       "      <td>2017-10-13</td>\n",
       "      <td>1</td>\n",
       "      <td>2.65</td>\n",
       "      <td>10.00</td>\n",
       "      <td>19.80</td>\n",
       "      <td>7</td>\n",
       "      <td>NaN</td>\n",
       "      <td>False</td>\n",
       "      <td>False</td>\n",
       "      <td>13.20</td>\n",
       "      <td>1</td>\n",
       "      <td>санкт-петербург</td>\n",
       "      <td>34_084.00</td>\n",
       "      <td>14_386.00</td>\n",
       "      <td>1.00</td>\n",
       "      <td>384.00</td>\n",
       "      <td>2.00</td>\n",
       "      <td>433.00</td>\n",
       "      <td>44.00</td>\n",
       "      <td>96_806.17</td>\n",
       "      <td>13</td>\n",
       "      <td>10</td>\n",
       "      <td>2017</td>\n",
       "      <td>другой</td>\n",
       "      <td>0.44</td>\n",
       "      <td>0.29</td>\n",
       "    </tr>\n",
       "  </tbody>\n",
       "</table>\n",
       "</div>"
      ],
      "text/plain": [
       "      total_images   last_price  total_area first_day_exposition  rooms  \\\n",
       "2381             1 4_395_000.00       45.40           2017-10-13      1   \n",
       "\n",
       "      ceiling_height  floors_total  living_area  floor is_apartment  \\\n",
       "2381            2.65         10.00        19.80      7          NaN   \n",
       "\n",
       "      is_studio  is_open_plan  kitchen_area  balcony    locality_name  \\\n",
       "2381      False         False         13.20        1  санкт-петербург   \n",
       "\n",
       "      airports_nearest  city_centers_nearest  parks_around_3km  parks_nearest  \\\n",
       "2381         34_084.00             14_386.00              1.00         384.00   \n",
       "\n",
       "      ponds_around_3km  ponds_nearest  days_exposition  price_per_m2  \\\n",
       "2381              2.00         433.00            44.00     96_806.17   \n",
       "\n",
       "      exposition_day  exposition_month  exposition_year floor_cat  \\\n",
       "2381              13                10             2017    другой   \n",
       "\n",
       "      liv_tot_ratio  kit_tot_ratio  \n",
       "2381           0.44           0.29  "
      ]
     },
     "execution_count": 30,
     "metadata": {},
     "output_type": "execute_result"
    }
   ],
   "source": [
    "df.sample()"
   ]
  },
  {
   "cell_type": "code",
   "execution_count": 23,
   "metadata": {},
   "outputs": [],
   "source": [
    "df_1 = df[[\"last_price\", \"total_area\", \"rooms\", \"city_centers_nearest\"]]"
   ]
  },
  {
   "cell_type": "code",
   "execution_count": 29,
   "metadata": {},
   "outputs": [
    {
     "data": {
      "text/html": [
       "<div>\n",
       "<style scoped>\n",
       "    .dataframe tbody tr th:only-of-type {\n",
       "        vertical-align: middle;\n",
       "    }\n",
       "\n",
       "    .dataframe tbody tr th {\n",
       "        vertical-align: top;\n",
       "    }\n",
       "\n",
       "    .dataframe thead th {\n",
       "        text-align: right;\n",
       "    }\n",
       "</style>\n",
       "<table border=\"1\" class=\"dataframe\">\n",
       "  <thead>\n",
       "    <tr style=\"text-align: right;\">\n",
       "      <th></th>\n",
       "      <th>last_price</th>\n",
       "      <th>total_area</th>\n",
       "      <th>rooms</th>\n",
       "      <th>city_centers_nearest</th>\n",
       "    </tr>\n",
       "  </thead>\n",
       "  <tbody>\n",
       "    <tr>\n",
       "      <th>last_price</th>\n",
       "      <td>1.00</td>\n",
       "      <td>0.65</td>\n",
       "      <td>0.36</td>\n",
       "      <td>-0.21</td>\n",
       "    </tr>\n",
       "    <tr>\n",
       "      <th>total_area</th>\n",
       "      <td>0.65</td>\n",
       "      <td>1.00</td>\n",
       "      <td>0.76</td>\n",
       "      <td>-0.23</td>\n",
       "    </tr>\n",
       "    <tr>\n",
       "      <th>rooms</th>\n",
       "      <td>0.36</td>\n",
       "      <td>0.76</td>\n",
       "      <td>1.00</td>\n",
       "      <td>-0.18</td>\n",
       "    </tr>\n",
       "    <tr>\n",
       "      <th>city_centers_nearest</th>\n",
       "      <td>-0.21</td>\n",
       "      <td>-0.23</td>\n",
       "      <td>-0.18</td>\n",
       "      <td>1.00</td>\n",
       "    </tr>\n",
       "  </tbody>\n",
       "</table>\n",
       "</div>"
      ],
      "text/plain": [
       "                      last_price  total_area  rooms  city_centers_nearest\n",
       "last_price                  1.00        0.65   0.36                 -0.21\n",
       "total_area                  0.65        1.00   0.76                 -0.23\n",
       "rooms                       0.36        0.76   1.00                 -0.18\n",
       "city_centers_nearest       -0.21       -0.23  -0.18                  1.00"
      ]
     },
     "execution_count": 29,
     "metadata": {},
     "output_type": "execute_result"
    }
   ],
   "source": [
    "df_1.corr()"
   ]
  },
  {
   "cell_type": "code",
   "execution_count": 33,
   "metadata": {},
   "outputs": [
    {
     "data": {
      "image/png": "[encoded data removed]",
      "text/plain": [
       "<Figure size 1400x1000 with 16 Axes>"
      ]
     },
     "metadata": {},
     "output_type": "display_data"
    }
   ],
   "source": [
    "pd.plotting.scatter_matrix(df_1, figsize=(14, 10));"
   ]
  },
  {
   "cell_type": "markdown",
   "metadata": {},
   "source": [
    "- Умеренная положительная корреляция (0.65) между ценой и общей площадью, чем больше площадь тем больше цена. На графике, после 300 квадратных метров наблюдаются всплески неравномерного повышения цены.\n",
    "- Умереная положительная корреляция между ценой и количеством комнат (0.36). На графике видим особеность, до числа комнат равном 5 цена повышается, когда число комнат становится выше 5 идёт снижение цены, возможно это продажа комнаты в коммуналке.\n",
    "- Умерено-низкая отрицательная корреляция между ценой и приближеностью к центру (-0.21). На графике видим явное повышение цен, при приближении к центру, когда расстояние меньше 9 километров."
   ]
  }
 ],
 "metadata": {
  "kernelspec": {
   "display_name": "Python 3",
   "language": "python",
   "name": "python3"
  },
  "language_info": {
   "codemirror_mode": {
    "name": "ipython",
    "version": 3
   },
   "file_extension": ".py",
   "mimetype": "text/x-python",
   "name": "python",
   "nbconvert_exporter": "python",
   "pygments_lexer": "ipython3",
   "version": "3.12.0"
  }
 },
 "nbformat": 4,
 "nbformat_minor": 2
}
